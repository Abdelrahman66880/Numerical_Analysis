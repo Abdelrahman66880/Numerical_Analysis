{
  "cells": [
    {
      "cell_type": "markdown",
      "metadata": {
        "deletable": false,
        "editable": false,
        "id": "split-mercy",
        "nbgrader": {
          "cell_type": "markdown",
          "checksum": "a34b810972fc06c80ac9d379a9f33ca4",
          "grade": false,
          "grade_id": "cell-1fc84fa265289359",
          "locked": true,
          "schema_version": 3,
          "solution": false,
          "task": false
        }
      },
      "source": [
        "\n",
        "\n",
        "\n",
        "\n",
        "# CSE213 - Numerical Analysis"
      ]
    },
    {
      "cell_type": "markdown",
      "metadata": {
        "id": "3eL2ZgKdAe_u"
      },
      "source": [
        "# Lab 11 - Multi-step Methods for Solving ODEs: Adams-Bashforth Corrector-Predictor Method"
      ]
    },
    {
      "cell_type": "markdown",
      "metadata": {
        "id": "jvkCWc0yFIaX"
      },
      "source": [
        "The Adams-Bashforth method is an explicit method for solving ODEs. It is a multi-step method that uses the values of the function and its derivatives at previous time steps to predict the value at the next time step. The basic idea is to use the Taylor series expansion of the function and its derivatives to predict the value at the next time step. The method can be used to obtain high-order accuracy, but it is also subject to stability issues. The Adams-Bashforth predictor is as follows:\n",
        "$$\\large\n",
        "y_{n+1, p}=y_n+\\frac{h}{24}\\left(55 y_n^{\\prime}-59 y_{n-1}^{\\prime}+37 y_{n-2}^{\\prime}-9 y_{n-3}^{\\prime}\\right)\\text{.}\n",
        "$$\n",
        "For $n=3$, we have\n",
        "$$\\large\n",
        "y_{4,p}=y_{3}+\\frac{h}{24}\\Bigl(55y_{3}^{\\prime}-59y_{2}^{\\prime}+37y_{1}^{\\prime}-9y_{0}^{\\prime}\\Bigr)\\text{.}$$\n",
        "\n",
        "The Adams-Bashforth method can be combined with a corrector step to improve its accuracy. The corrector step uses the predicted value to estimate the error, and then adjusts the prediction to obtain a more accurate estimate. This is known as the Adams-Bashforth corrector predictor method. The Adams-Bashforth corrector formula is\n",
        "$$\\large y_{n+1,c}=y_{n}+\\frac{h}{24}\\left(9y_{n+1}^{\\prime}+19y_{n}^{\\prime}-5y_{n-1}^{\\prime}+y_{n-2}^{\\prime}\\right)\\text{.}$$\n",
        "\n",
        "Putting $n =3$, we get\n",
        "\n",
        "$$\\large y_{4,c}=y_{3}+\\frac{h}{24}\\Bigl(9y_{4}^{\\prime}+19y_{3}^{\\prime}-5y_{2}^{\\prime}+y_{1}^{\\prime}\\Bigr)\\text{.}$$"
      ]
    },
    {
      "cell_type": "markdown",
      "metadata": {
        "id": "1Bj1sYHm66Gy"
      },
      "source": [
        "In this lab, you will implement the Adams-Bashforth corrector-predictor algorithm to approximate the solution of a given ordinary differential equation. You will start by writing the predictor algorithm, which uses a finite difference approximation to predict the next value of the solution. Then, you will implement the corrector algorithm, which refines the prediction by using a weighted average of the previous approximations. Finally, you will test your implementation on a simple example problem and compare the results to the exact solution."
      ]
    },
    {
      "cell_type": "markdown",
      "metadata": {
        "id": "NfCJzzwP7iwl"
      },
      "source": [
        "### Exercise 1"
      ]
    },
    {
      "cell_type": "markdown",
      "metadata": {
        "id": "zBe3nY_L7lTp"
      },
      "source": [
        "Implement the predictor algorithm for the Adams-Bashforth method up to order 4. You should be able to use this predictor algorithm for any given initial condition and time step size. Write a function that takes as input\n",
        "- the current time\n",
        "- the current approximation of the solution\n",
        "- the time step size,\n",
        "\n",
        "and returns the predicted value of the solution at the next time step."
      ]
    },
    {
      "cell_type": "code",
      "execution_count": 3,
      "metadata": {
        "id": "3ntoXWdd7iS_"
      },
      "outputs": [],
      "source": [
        "import numpy as np\n",
        "import matplotlib.pyplot as plt\n",
        "\n",
        "def predictor(f, t, y, h, f_history):\n",
        "    \"\"\"\n",
        "    Implement the predictor formula of the Adams-Bashforth algorithm of the 4th order\n",
        "    Inputs:\n",
        "      - f: the function f(t, y) defining the differential equation\n",
        "      - t: the current time\n",
        "      - y: the current value of the dependent variable y\n",
        "      - h: the step size\n",
        "      - f_history: array of the last three f(t, y) evaluations\n",
        "    Output:\n",
        "      - y_pred: the predicted value of y at the next time step\n",
        "    \"\"\"\n",
        "    y_pred = y + ((h / 24) * ((55 * f_history[-1]) - (59 * f_history[-2]) + (37 * f_history[-3]) - (9 * f_history[-4]))) \n",
        "    return y_pred"
      ]
    },
    {
      "cell_type": "markdown",
      "metadata": {
        "id": "LmwMRAd_7vLb"
      },
      "source": [
        "Implement the corrector algorithm for the Adams-Bashforth method of order 4, which can be used for any given initial condition, time step size, and predicted value of the solution. To achieve this, write a function that takes the current time, current approximation of the solution, predicted value of the solution at the next time step, and time step size as inputs and returns the corrected value of the solution at the next time step. This function can be used to improve the accuracy of the solution obtained through the Adams-Bashforth method."
      ]
    },
    {
      "cell_type": "code",
      "execution_count": 7,
      "metadata": {
        "id": "eL8cBwIy7x_5"
      },
      "outputs": [],
      "source": [
        "def corrector(f, t, y, h, y_pred, f_history):\n",
        "    \"\"\"\n",
        "    Implement the corrector formula of the Adams-Moulton algorithm of the 4th order\n",
        "    Inputs:\n",
        "      - f: the function f(t, y) defining the differential equation\n",
        "      - t: the current time\n",
        "      - y: the current value of the dependent variable y\n",
        "      - h: the step size\n",
        "      - y_pred: the predicted value of y at the next time step\n",
        "      - f_history: array of the last two f(t, y) evaluations\n",
        "    Output:\n",
        "      - y_corr: the corrected value of y at the next time step\n",
        "    \"\"\"\n",
        "    y_corr = y + ((h / 24) * ((9 * f(t, y_pred)) + (19 * f_history[-1]) - (5 * f_history[-2]) + (1 * f_history[-3]))) \n",
        "    return y_corr"
      ]
    },
    {
      "cell_type": "markdown",
      "metadata": {
        "id": "JswsbbfN8HbZ"
      },
      "source": [
        "### Exercise 2"
      ]
    },
    {
      "cell_type": "markdown",
      "metadata": {
        "id": "7vMNdYyoHMdC"
      },
      "source": [
        "Implement the Adams-Bashforth Corrector-Predictor algorithm, and use any single-step method for the first few steps."
      ]
    },
    {
      "cell_type": "code",
      "execution_count": 63,
      "metadata": {
        "id": "p3VdV2vxKRmZ"
      },
      "outputs": [],
      "source": [
        "def RK4(f, t, y, h):\n",
        "    \"\"\"\n",
        "    Implement the Runge-Kutta fourth order algorithm over the starting values\n",
        "    Inputs:\n",
        "      - f: the function f(t, y) defining the differential equation\n",
        "      - t: the current time\n",
        "      - y: the current value of the dependant variable y\n",
        "      - h: the step size\n",
        "    Output:\n",
        "      - y_approximate: the approximated y at the starting values \n",
        "    \"\"\"\n",
        "    k1 = f(t, y)\n",
        "    k2 = f(t + h/2, y + (h/2)*k1)\n",
        "    k3 = f(t + h/2, y + (h/2)*k2)\n",
        "    k4 = f(t + h, y + (h*k3))\n",
        "\n",
        "    y_approximate = y + (h/6 * (k1 + 2*k2 + 2*k3 + k4))\n",
        "    return y_approximate\n",
        "\n",
        "def adams_bashforth_corrector(f, t0, y0, h, t_end):\n",
        "    \"\"\"\n",
        "    Implement the Adams-Bashforth Predictor-Corrector algorithm of the 4th order\n",
        "    Inputs:\n",
        "      - f: the function f(t, y) defining the differential equation\n",
        "      - t0: the initial time\n",
        "      - y0: the initial value of the dependent variable y\n",
        "      - h: the step size\n",
        "      - t_end: the end time\n",
        "    Output:\n",
        "      - t: an array of the time steps\n",
        "      - y: an array of the values of the dependent variable y\n",
        "    \"\"\"\n",
        "    # for starters\n",
        "    steps = int((t_end - t0) / h)\n",
        "    t = [(0.1 * i) for i in range(steps + 1)]\n",
        "    y = np.zeros(steps + 1)\n",
        "    f_history = list(np.zeros(4,))\n",
        "    y[0] = y0\n",
        "    f_history[0] = f(t[0], y[0])\n",
        "    \n",
        "    for i in range(1, 4):\n",
        "       y[i] = RK4(f, t[i - 1], y[i - 1], h)\n",
        "       f_history[i] = f(t[i], y[i])\n",
        "    \n",
        "    # For Adam-Bashforth loop\n",
        "    for n in range(3, steps):\n",
        "       y_pred = predictor(f, t[n], y[n], h, f_history)\n",
        "       y_corr = corrector(f, t[n + 1], y[n], h, y_pred, f_history)\n",
        "       y[n + 1] = y_corr\n",
        "       f_history.append(f(t[n + 1], y[n + 1]))\n",
        "       f_history.pop(0)\n",
        "    return t, y"
      ]
    },
    {
      "cell_type": "markdown",
      "metadata": {
        "id": "x1Geaj04IlJp"
      },
      "source": [
        "### Testing"
      ]
    },
    {
      "cell_type": "code",
      "execution_count": 66,
      "metadata": {
        "id": "afV4gD40NjAs"
      },
      "outputs": [],
      "source": [
        "import numpy as np\n",
        "\n",
        "def f(t, y): return -y\n",
        "\n",
        "# Test case\n",
        "t0, y0, t_end, h = 0, 1, 2, 0.1\n",
        "\n",
        "t, y = adams_bashforth_corrector(f, t0, y0, h, t_end)\n",
        "\n",
        "y_expected = [1.0, 0.9048374, 0.8187308, 0.7408182, 0.67032, 0.6065307, 0.5488116, 0.4965853,\n",
        "              0.449329, 0.4065697, 0.3678794, 0.3328711, 0.3011942, 0.2725318, 0.246597,\n",
        "              0.2231302, 0.2018965, 0.1826835, 0.1652989, 0.1495686, 0.1353353]\n",
        "\n",
        "t_expected = [0.1*i for i in range(21)]\n",
        "\n",
        "# Assert statements\n",
        "assert np.isclose(t[0], 0)\n",
        "assert np.isclose(y[0], 1)\n",
        "assert np.isclose(t[-1], 2)\n",
        "assert np.isclose(y[-1], y_expected[-1])\n",
        "assert len(t) == len(y)\n",
        "assert np.allclose(y, y_expected, atol=1e-6)\n",
        "assert np.allclose(t, t_expected, atol=1e-6)"
      ]
    }
  ],
  "metadata": {
    "colab": {
      "provenance": []
    },
    "kernelspec": {
      "display_name": "Python 3",
      "name": "python3"
    },
    "language_info": {
      "codemirror_mode": {
        "name": "ipython",
        "version": 3
      },
      "file_extension": ".py",
      "mimetype": "text/x-python",
      "name": "python",
      "nbconvert_exporter": "python",
      "pygments_lexer": "ipython3",
      "version": "3.11.4"
    }
  },
  "nbformat": 4,
  "nbformat_minor": 0
}
