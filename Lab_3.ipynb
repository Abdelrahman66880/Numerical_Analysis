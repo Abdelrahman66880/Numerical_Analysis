{
  "cells": [
    {
      "cell_type": "markdown",
      "id": "split-mercy",
      "metadata": {
        "deletable": false,
        "editable": false,
        "nbgrader": {
          "cell_type": "markdown",
          "checksum": "a34b810972fc06c80ac9d379a9f33ca4",
          "grade": false,
          "grade_id": "cell-1fc84fa265289359",
          "locked": true,
          "schema_version": 3,
          "solution": false,
          "task": false
        },
        "id": "split-mercy"
      },
      "source": [
        "# CSE213 - Numerical Analysis"
      ]
    },
    {
      "cell_type": "markdown",
      "source": [
        "# Lab 3 - Interpolation Methods (II)"
      ],
      "metadata": {
        "id": "3eL2ZgKdAe_u"
      },
      "id": "3eL2ZgKdAe_u"
    },
    {
      "cell_type": "markdown",
      "source": [
        "## Newton's Forward Difference\n",
        "\n",
        "*   List item\n",
        "*   List item\n",
        "\n"
      ],
      "metadata": {
        "id": "qNzURLvptv8l"
      },
      "id": "qNzURLvptv8l"
    },
    {
      "cell_type": "markdown",
      "source": [
        "Let the function $f(x)$ take the values $y_0, y_1, y_2, \\ldots, y_n$ corresponding to the values $x_0, x_1, x_2, \\ldots, x_n$ of $x$. Suppose it is required to evaluate $f(x)$ for $x=x_0 + p h$, where $p$ is any real number.\n",
        "\n",
        "We then apply the formulas below:\n",
        "$$\n",
        "\\begin{aligned}\n",
        "& p=\\frac{x-x_0}{h}, \\\\\n",
        "& f(x)=y_0+p \\Delta y_0+\\frac{p(p-1)}{2 !} \\cdot \\Delta^2 y_0+\\frac{p(p-1)(p-2)}{3 !} \\cdot \\Delta^3 y_0+\\frac{p(p-1)(p-2)(p-3)}{4 !} \\cdot \\Delta^4 y_0+\\ldots\n",
        "\\end{aligned}\n",
        "$$\n",
        "<br>\n",
        "So the Netwon's polynomial $P_n(x)$ is defined as\n",
        "$$\n",
        "P_n(x)=\\sum_{k=0}^n\\left(\\begin{array}{l}\n",
        "p \\\\\n",
        "k\n",
        "\\end{array}\\right) \\Delta^k f_0, \\quad p=\\frac{x-x_0}{h} .\n",
        "$$\n",
        "<br>\n",
        "Note that the forward-difference\n",
        "$\\Delta f_i=f_{i+1}-f_i$, with $f\\left(x_i\\right)=f_i=y_i, i=0,1, \\ldots$\n",
        "\n",
        "Higher powers are then defined recursively by\n",
        "$$\n",
        "\\Delta^n f_i=\\Delta\\left(\\Delta^{n-1} f_i\\right), \\quad n=2,3, \\ldots\n",
        "$$"
      ],
      "metadata": {
        "id": "N8RS06Eit3Y3"
      },
      "id": "N8RS06Eit3Y3"
    },
    {
      "cell_type": "markdown",
      "source": [
        "#### Exercise 1\n",
        "Given the points below, estimate $f(1895)$ using Newton's Forward Difference formula.\n",
        "\n",
        "|$x$|$$f(x)$$|\n",
        "|:--:|:--:|\n",
        "|1891|\t46|\n",
        "|1901|\t66|\n",
        "|1911|\t81|\n",
        "|1921|\t93|\n",
        "|1931|\t101|"
      ],
      "metadata": {
        "id": "YvcHcsts5wyu"
      },
      "id": "YvcHcsts5wyu"
    },
    {
      "cell_type": "code",
      "source": [
        "import numpy as np\n",
        "import math #  use factorial fucntion to calculate n!\n",
        "def newton_forward(X, Y):\n",
        "    n = len(X)\n",
        "\n",
        "\n",
        "    # construct a forward table\n",
        "    def forward_diff(y):\n",
        "      forward_table = np.zeros((n, n))\n",
        "      forward_table[:, 0] = y # This additional line fixes the assertion problem\n",
        "      for col in range(1, n):\n",
        "            for row in range(n - col):\n",
        "                forward_table[row][col] = forward_table[row + 1][col - 1] - forward_table[row][col - 1];\n",
        "      return forward_table[0, :]\n",
        "    # write a function to calculate P values\n",
        "    def p_cal(p,n):\n",
        "        temp = p;\n",
        "        for i in range(1, n):\n",
        "            temp = temp * (p - i);\n",
        "        return temp;\n",
        "\n",
        "    def f(x_):\n",
        "        h = np.diff(X)[0]\n",
        "        result = Y[0]\n",
        "        forward_differance_vaues = forward_diff(Y)\n",
        "\n",
        "        for i in range(1, n):\n",
        "            result += (p_cal((x_ - X[0]) / h, i) / math.factorial(i)) * forward_differance_vaues[i]\n",
        "\n",
        "        return result\n",
        "    return f\n",
        "\n"
      ],
      "metadata": {
        "id": "RDA4ICrq5eSa"
      },
      "id": "RDA4ICrq5eSa",
      "execution_count": 28,
      "outputs": []
    },
    {
      "cell_type": "code",
      "source": [
        "assert np.isclose(newton_forward([1891, 1901, 1911, 1921, 1931], [46, 66, 81, 93, 101])(1895), 54.8528)"
      ],
      "metadata": {
        "id": "qyvwg8zVCrTJ"
      },
      "id": "qyvwg8zVCrTJ",
      "execution_count": 29,
      "outputs": []
    },
    {
      "cell_type": "markdown",
      "source": [
        "If $f$ is $n+1$ times continuously differentiable on a closed interval $\\mathrm{I}$ and $P_n(x)$ is a polynomial of degree at most $n$ that interpolates $f$ at $n+1$ distinct points $\\left\\{x_i\\right\\}(i=0,1, \\ldots, \\underline{n})$ in that interval, then for each $x$ in the interval there exists $\\xi$ in that interval such that\n",
        "$$\n",
        "f(x)-P_n(x)=\\frac{f^{(n+1)}(\\xi)}{(n+1) !} \\prod_{i=0}^n\\left(x-x_i\\right) .\n",
        "$$"
      ],
      "metadata": {
        "id": "moDXKp58Wwl1"
      },
      "id": "moDXKp58Wwl1"
    },
    {
      "cell_type": "markdown",
      "source": [
        "#### Exercise 2\n",
        "Consider the function $f(x)=\\ln x$.\n",
        "\n",
        "1. Construct the Lagrange form of the interpolating polynomial for $f$ passing through the points $(1, \\ln 1)$, $(2, \\ln 2)$, $(3, \\ln 3)$, $(4, \\ln 4)$ and $(5, \\ln 5)$.\n",
        "2. Repeat the same done in previous yet with more points: $(1, \\ln 1)$, $(1.5, \\ln 1.5)$, $(2, \\ln 2)$, $(2.5, \\ln 2.5) \\dots (5, \\ln 5)$.\n",
        "3. Estimate $\\ln 4.8$ using the two polynomials obtained and find in each case the absolute error and theoretical error bound."
      ],
      "metadata": {
        "id": "aY3gfdyvL8g2"
      },
      "id": "aY3gfdyvL8g2"
    },
    {
      "cell_type": "code",
      "source": [
        "import numpy as np\n",
        "\n",
        "def lagrange(X, Y):\n",
        "    def f(x_):\n",
        "        result = 0\n",
        "        for i in range(len(X)):\n",
        "            temp = 1\n",
        "            for j in range(len(X)):\n",
        "                if i != j and X[i] != X[j]:\n",
        "                    temp *= (x_ - X[j]) / (X[i] - X[j])\n",
        "            result += temp * Y[i]\n",
        "        return result\n",
        "    return f"
      ],
      "metadata": {
        "id": "ZPlGrZFL9ggn"
      },
      "id": "ZPlGrZFL9ggn",
      "execution_count": 39,
      "outputs": []
    },
    {
      "cell_type": "code",
      "source": [
        "P1 = lagrange([1, 2, 3, 4, 5], [0, np.log(2), np.log(3), np.log(4), np.log(5)])\n",
        "P2 = lagrange([i // 2 for i in range(2, 11)], [np.log(i // 2) for i in range(2, 11)])"
      ],
      "metadata": {
        "id": "GouBKKi49hHF"
      },
      "id": "GouBKKi49hHF",
      "execution_count": 40,
      "outputs": []
    },
    {
      "cell_type": "code",
      "source": [
        "def ln_derivative(x, n=1):\n",
        "    if x == 0:\n",
        "      return 0  # or handle the error appropriately\n",
        "    else:\n",
        "      return math.factorial(n - 1) * (-1) ** (n - 1) / x ** n\n",
        "\n",
        "x_1= P1(4.8)\n",
        "x_2 = P2(4.8)\n",
        "absolute_err_1 = abs(ln_derivative(x_1) - x_1)\n",
        "absolute_err_2 = abs(ln_derivative(x_2) - x_2)\n",
        "\n",
        "theoretical_err_1 = 0\n",
        "for i in range(len([i // 2 for i in range(2, 11)])):\n",
        "    theoretical_err_1 += abs((ln_derivative(i) - ln_derivative(4.8)))\n",
        "\n",
        "theoretical_err_2 = 0\n",
        "for i in range(len([i // 2 for i in range(2, 11)])):\n",
        "    theoretical_err_2 += abs((ln_derivative(i) - ln_derivative(4.8)))\n",
        "print(absolute_err_1, theoretical_err_1)\n",
        "print(absolute_err_2, theoretical_err_2)"
      ],
      "metadata": {
        "id": "uNwMWRdw9jEN",
        "outputId": "5330ac9e-e826-45df-b180-a83e56685b69",
        "colab": {
          "base_uri": "https://localhost:8080/"
        }
      },
      "id": "uNwMWRdw9jEN",
      "execution_count": 41,
      "outputs": [
        {
          "output_type": "stream",
          "name": "stdout",
          "text": [
            "0.9349350692804165 1.657142857142857\n",
            "10.886521038457573 1.657142857142857\n"
          ]
        }
      ]
    },
    {
      "cell_type": "markdown",
      "source": [
        "## Spline Interpolation"
      ],
      "metadata": {
        "id": "QBpIdJ1iSIn5"
      },
      "id": "QBpIdJ1iSIn5"
    },
    {
      "cell_type": "markdown",
      "source": [
        "A function $S$ is called a spline of degree $k$ if it satisfies the following conditions:\n",
        "1. $S$ is defined in the interval $[a, b]$.\n",
        "2. $S^{(r)}$ is continuous on $[a, b]$ for $0 \\leq r \\leq k-1$.\n",
        "3. $S$ is a polynomial of degree $\\leq k$ on each sub-interval $\\left[x_i, x_{i+1}\\right], i=0,1, \\ldots, n-1$.\n",
        "\n",
        "**Linear Spline** (Spline of degree 1)\n",
        "$$\n",
        "S(x)= \\begin{cases}S_0(x)=a_0+b_0 x, & x \\in\\left[x_0, x_1\\right] \\\\ S_1(x)=a_1+b_1 x, & x \\in\\left[x_1, x_2\\right] \\\\ \\vdots & \\\\ S_{n-1}(x)=a_{n-1}+b_{n-1} x, & x \\in\\left[x_{n-1}, x_n\\right] .\\end{cases}\n",
        "$$\n",
        "<br>\n",
        "Using the equation of a line between each two data points, it is easy to see that $S(x)$ can be defined by\n",
        "$$\n",
        "S_i(x)=f\\left(x_i\\right)+\\frac{f\\left(x_{i+1}\\right)-f\\left(x_i\\right)}{x_{i+1}-x_i}\\left(x-x_i\\right), \\quad i=0,1, \\ldots, n-1.\n",
        "$$"
      ],
      "metadata": {
        "id": "BSxwIvE8Wp4B"
      },
      "id": "BSxwIvE8Wp4B"
    },
    {
      "cell_type": "markdown",
      "source": [
        "#### Code Example"
      ],
      "metadata": {
        "id": "2fJHRcD0XKa-"
      },
      "id": "2fJHRcD0XKa-"
    },
    {
      "cell_type": "code",
      "source": [
        "import numpy as np\n",
        "import matplotlib.pyplot as plt\n",
        "\n",
        "\n",
        "'''\n",
        "We will plot the function np.sin(x) for x in [1, 5].\n",
        "We will highlight the points at x = 1, 1.5, 2, 2.5, 3, 3.5, 4, 4.5, 5.\n",
        "We will also plot the linear spline interpolant at these points.\n",
        "'''\n",
        "\n",
        "\n",
        "'''  1.We will plot the function np.sin(x) for x in [1, 5]. '''\n",
        "# define the function\n",
        "def f(x):\n",
        "    return np.sin(x)\n",
        "# define the points at which we will evaluate the function\n",
        "x = np.linspace(1, 5, 100)\n",
        "# plot the function\n",
        "plt.plot(x, f(x),label='points')\n",
        "\n",
        "''' 2.We will highlight the points at x = 1, 1.5, 2, 2.5, 3, 3.5, 4, 4.5, 5. '''\n",
        "\n",
        "# define the points at which we will evaluate the linear spline interpolant\n",
        "x0 = np.linspace(1, 5, 9)\n",
        "# define the values of the function at the points x0\n",
        "y0=f(x0)\n",
        "# plot the points at which we evaluate the linear spline interpolant\n",
        "plt.plot(x0, y0,'o',label='points at which we evaluate the linear spline interpolant')\n",
        "\n",
        "\n",
        "''' 3.We will also plot the linear spline interpolant at these points.'''\n",
        "\n",
        "# Plot the linear spline interpolant\n",
        "plt.plot(x0, y0, '--', color=\"grey\")  # Plot the linear spline interpolant without connecting the points\n",
        "\n",
        "# add a legend\n",
        "plt.legend(bbox_to_anchor=(0, 1),\n",
        "              loc='lower left', fontsize='small')\n",
        "\n",
        "# show the plot\n",
        "plt.show()"
      ],
      "metadata": {
        "colab": {
          "base_uri": "https://localhost:8080/",
          "height": 477
        },
        "id": "5KrA9axBWLxo",
        "outputId": "87a28435-20ce-48ce-f564-2a009437acdc"
      },
      "id": "5KrA9axBWLxo",
      "execution_count": null,
      "outputs": [
        {
          "output_type": "display_data",
          "data": {
            "text/plain": [
              "<Figure size 640x480 with 1 Axes>"
            ],
            "image/png": "[encoded data removed]"
          },
          "metadata": {}
        }
      ]
    }
  ],
  "metadata": {
    "kernelspec": {
      "display_name": "Python 3",
      "language": "python",
      "name": "python3"
    },
    "language_info": {
      "codemirror_mode": {
        "name": "ipython",
        "version": 3
      },
      "file_extension": ".py",
      "mimetype": "text/x-python",
      "name": "python",
      "nbconvert_exporter": "python",
      "pygments_lexer": "ipython3",
      "version": "3.7.1"
    },
    "colab": {
      "provenance": []
    }
  },
  "nbformat": 4,
  "nbformat_minor": 5
}