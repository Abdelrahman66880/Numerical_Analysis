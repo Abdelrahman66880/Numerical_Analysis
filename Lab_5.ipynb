{
  "cells": [
    {
      "cell_type": "markdown",
      "metadata": {
        "id": "dzNng6vCL9eP"
      },
      "source": [
        "#Part I\n",
        "##Numpy Tutorial"
      ]
    },
    {
      "cell_type": "markdown",
      "metadata": {
        "id": "qVrTo-LhL9eS"
      },
      "source": [
        "##Introduction"
      ]
    },
    {
      "cell_type": "markdown",
      "metadata": {
        "id": "9t1gKp9PL9eV"
      },
      "source": [
        "Python is a great general-purpose programming language on its own, but with the help of a few popular libraries (numpy, scipy, matplotlib) it becomes a powerful environment for scientific computing.\n",
        "\n",
        "We expect that many of you will have some experience with Python and numpy; for the rest of you, this section will serve as a quick crash course both on the Python programming language and on the use of Python for scientific computing.\n",
        "\n"
      ]
    },
    {
      "cell_type": "markdown",
      "metadata": {
        "id": "U1PvreR9L9eW"
      },
      "source": [
        "In this tutorial, we will cover:\n",
        "\n",
        "* Basic Python: Basic data types (Containers, Lists, Dictionaries, Sets, Tuples), Functions, Classes\n",
        "* Numpy: Arrays, Array indexing, Datatypes, Array math, Broadcasting\n",
        "* Matplotlib: Plotting, Subplots, Images\n",
        "* IPython: Creating notebooks, Typical workflows"
      ]
    },
    {
      "cell_type": "markdown",
      "metadata": {
        "id": "nxvEkGXPM3Xh"
      },
      "source": [
        "## A Brief Note on Python Versions\n",
        "\n",
        "As of Janurary 1, 2020, Python has [officially dropped support](https://www.python.org/doc/sunset-python-2/) for `python2`. We'll be using Python 3.7 for this iteration of the course. You can check your Python version at the command line by running `python --version`. In Colab, we can enforce the Python version by clicking `Runtime -> Change Runtime Type` and selecting `python3`. Note that as of April 2020, Colab uses Python 3.6.9 which should run everything without any errors."
      ]
    },
    {
      "cell_type": "code",
      "execution_count": null,
      "metadata": {
        "colab": {
          "base_uri": "https://localhost:8080/"
        },
        "id": "1L4Am0QATgOc",
        "outputId": "fb267589-9e2d-4051-c746-eb1549fc29e7"
      },
      "outputs": [
        {
          "output_type": "stream",
          "name": "stdout",
          "text": [
            "Python 3.9.16\n"
          ]
        }
      ],
      "source": [
        "!python --version"
      ]
    },
    {
      "cell_type": "markdown",
      "metadata": {
        "id": "JAFKYgrpL9eY"
      },
      "source": [
        "##Basics of Python"
      ]
    },
    {
      "cell_type": "markdown",
      "metadata": {
        "id": "RbFS6tdgL9ea"
      },
      "source": [
        "Python is a high-level, dynamically typed multiparadigm programming language. Python code is often said to be almost like pseudocode, since it allows you to express very powerful ideas in very few lines of code while being very readable. As an example, here is an implementation of the classic quicksort algorithm in Python:"
      ]
    },
    {
      "cell_type": "code",
      "execution_count": null,
      "metadata": {
        "colab": {
          "base_uri": "https://localhost:8080/"
        },
        "id": "cYb0pjh1L9eb",
        "outputId": "3aac2567-1f63-43fc-fb50-5dffe93c7ee4"
      },
      "outputs": [
        {
          "output_type": "stream",
          "name": "stdout",
          "text": [
            "[1, 1, 2, 3, 6, 8, 10]\n"
          ]
        }
      ],
      "source": [
        "def quicksort(arr):\n",
        "    if len(arr) <= 1:\n",
        "        return arr\n",
        "    pivot = arr[len(arr) // 2]\n",
        "    left = [x for x in arr if x < pivot]\n",
        "    middle = [x for x in arr if x == pivot]\n",
        "    right = [x for x in arr if x > pivot]\n",
        "    return quicksort(left) + middle + quicksort(right)\n",
        "\n",
        "print(quicksort([3,6,8,10,1,2,1]))"
      ]
    },
    {
      "cell_type": "markdown",
      "metadata": {
        "id": "NwS_hu4xL9eo"
      },
      "source": [
        "###Basic data types"
      ]
    },
    {
      "cell_type": "markdown",
      "metadata": {
        "id": "DL5sMSZ9L9eq"
      },
      "source": [
        "####Numbers"
      ]
    },
    {
      "cell_type": "markdown",
      "metadata": {
        "id": "MGS0XEWoL9er"
      },
      "source": [
        "Integers and floats work as you would expect from other languages:"
      ]
    },
    {
      "cell_type": "code",
      "execution_count": null,
      "metadata": {
        "colab": {
          "base_uri": "https://localhost:8080/"
        },
        "id": "KheDr_zDL9es",
        "outputId": "b6111024-e772-4fed-8085-6500549b4c73"
      },
      "outputs": [
        {
          "output_type": "stream",
          "name": "stdout",
          "text": [
            "3 <class 'int'>\n"
          ]
        }
      ],
      "source": [
        "x = 3\n",
        "print(x, type(x))"
      ]
    },
    {
      "cell_type": "code",
      "execution_count": null,
      "metadata": {
        "colab": {
          "base_uri": "https://localhost:8080/"
        },
        "id": "sk_8DFcuL9ey",
        "outputId": "17dd6ca6-f354-4855-8634-24f8c21a0797"
      },
      "outputs": [
        {
          "output_type": "stream",
          "name": "stdout",
          "text": [
            "4\n",
            "2\n",
            "6\n",
            "9\n"
          ]
        }
      ],
      "source": [
        "print(x + 1)   # Addition\n",
        "print(x - 1)   # Subtraction\n",
        "print(x * 2)   # Multiplication\n",
        "print(x ** 2)  # Exponentiation"
      ]
    },
    {
      "cell_type": "code",
      "execution_count": null,
      "metadata": {
        "colab": {
          "base_uri": "https://localhost:8080/"
        },
        "id": "U4Jl8K0tL9e4",
        "outputId": "3b81ae44-5aba-4efb-c836-73e75ff455b1"
      },
      "outputs": [
        {
          "output_type": "stream",
          "name": "stdout",
          "text": [
            "4\n",
            "8\n"
          ]
        }
      ],
      "source": [
        "x += 1\n",
        "print(x)\n",
        "x *= 2\n",
        "print(x)"
      ]
    },
    {
      "cell_type": "code",
      "execution_count": null,
      "metadata": {
        "colab": {
          "base_uri": "https://localhost:8080/"
        },
        "id": "w-nZ0Sg_L9e9",
        "outputId": "986391c7-660f-42d1-c56e-6e74e50dcf66"
      },
      "outputs": [
        {
          "output_type": "stream",
          "name": "stdout",
          "text": [
            "<class 'float'>\n",
            "2.5 3.5 5.0 6.25\n"
          ]
        }
      ],
      "source": [
        "y = 2.5\n",
        "print(type(y))\n",
        "print(y, y + 1, y * 2, y ** 2)"
      ]
    },
    {
      "cell_type": "markdown",
      "metadata": {
        "id": "r2A9ApyaL9fB"
      },
      "source": [
        "Note that unlike many languages, Python does not have unary increment (x++) or decrement (x--) operators.\n",
        "\n",
        "Python also has built-in types for long integers and complex numbers; you can find all of the details in the [documentation](https://docs.python.org/3.7/library/stdtypes.html#numeric-types-int-float-long-complex)."
      ]
    },
    {
      "cell_type": "markdown",
      "metadata": {
        "id": "EqRS7qhBL9fC"
      },
      "source": [
        "####Booleans"
      ]
    },
    {
      "cell_type": "markdown",
      "metadata": {
        "id": "Nv_LIVOJL9fD"
      },
      "source": [
        "Python implements all of the usual operators for Boolean logic, but uses English words rather than symbols (`&&`, `||`, etc.):"
      ]
    },
    {
      "cell_type": "code",
      "execution_count": null,
      "metadata": {
        "colab": {
          "base_uri": "https://localhost:8080/"
        },
        "id": "RvoImwgGL9fE",
        "outputId": "3262443d-7c60-49ba-dd0e-cb70258f056d"
      },
      "outputs": [
        {
          "output_type": "stream",
          "name": "stdout",
          "text": [
            "<class 'bool'>\n"
          ]
        }
      ],
      "source": [
        "t, f = True, False\n",
        "print(type(t))"
      ]
    },
    {
      "cell_type": "markdown",
      "metadata": {
        "id": "YQgmQfOgL9fI"
      },
      "source": [
        "Now we let's look at the operations:"
      ]
    },
    {
      "cell_type": "code",
      "execution_count": null,
      "metadata": {
        "colab": {
          "base_uri": "https://localhost:8080/"
        },
        "id": "6zYm7WzCL9fK",
        "outputId": "39e98399-03c3-4b03-d9f8-a1c4e28704ed"
      },
      "outputs": [
        {
          "output_type": "stream",
          "name": "stdout",
          "text": [
            "False\n",
            "True\n",
            "False\n",
            "True\n"
          ]
        }
      ],
      "source": [
        "print(t and f) # Logical AND;\n",
        "print(t or f)  # Logical OR;\n",
        "print(not t)   # Logical NOT;\n",
        "print(t != f)  # Logical XOR;"
      ]
    },
    {
      "cell_type": "markdown",
      "metadata": {
        "id": "UQnQWFEyL9fP"
      },
      "source": [
        "####Strings"
      ]
    },
    {
      "cell_type": "code",
      "execution_count": null,
      "metadata": {
        "colab": {
          "base_uri": "https://localhost:8080/"
        },
        "id": "AijEDtPFL9fP",
        "outputId": "8c7ebda1-c5bb-4cad-bf5d-c96a0f956d33"
      },
      "outputs": [
        {
          "output_type": "stream",
          "name": "stdout",
          "text": [
            "hello 5\n"
          ]
        }
      ],
      "source": [
        "hello = 'hello'   # String literals can use single quotes\n",
        "world = \"world\"   # or double quotes; it does not matter\n",
        "print(hello, len(hello))"
      ]
    },
    {
      "cell_type": "code",
      "execution_count": null,
      "metadata": {
        "colab": {
          "base_uri": "https://localhost:8080/"
        },
        "id": "saDeaA7hL9fT",
        "outputId": "1721f718-7cd0-4b1e-de6a-b08da7512e4d"
      },
      "outputs": [
        {
          "output_type": "stream",
          "name": "stdout",
          "text": [
            "hello world\n"
          ]
        }
      ],
      "source": [
        "hw = hello + ' ' + world  # String concatenation\n",
        "print(hw)"
      ]
    },
    {
      "cell_type": "code",
      "execution_count": null,
      "metadata": {
        "colab": {
          "base_uri": "https://localhost:8080/"
        },
        "id": "Nji1_UjYL9fY",
        "outputId": "b9689558-bc9e-476f-871a-fc852a80f451"
      },
      "outputs": [
        {
          "output_type": "stream",
          "name": "stdout",
          "text": [
            "hello world 12\n"
          ]
        }
      ],
      "source": [
        "hw12 = '{} {} {}'.format(hello, world, 12)  # string formatting\n",
        "print(hw12)"
      ]
    },
    {
      "cell_type": "markdown",
      "metadata": {
        "id": "bUpl35bIL9fc"
      },
      "source": [
        "String objects have a bunch of useful methods; for example:"
      ]
    },
    {
      "cell_type": "code",
      "execution_count": null,
      "metadata": {
        "colab": {
          "base_uri": "https://localhost:8080/"
        },
        "id": "VOxGatlsL9fd",
        "outputId": "4a343a42-f910-40bb-8761-9a8fbe241c58"
      },
      "outputs": [
        {
          "output_type": "stream",
          "name": "stdout",
          "text": [
            "Hello\n",
            "HELLO\n",
            "  hello\n",
            " hello \n",
            "he(ell)(ell)o\n",
            "world\n"
          ]
        }
      ],
      "source": [
        "s = \"hello\"\n",
        "print(s.capitalize())  # Capitalize a string\n",
        "print(s.upper())       # Convert a string to uppercase; prints \"HELLO\"\n",
        "print(s.rjust(7))      # Right-justify a string, padding with spaces\n",
        "print(s.center(7))     # Center a string, padding with spaces\n",
        "print(s.replace('l', '(ell)'))  # Replace all instances of one substring with another\n",
        "print('  world '.strip())  # Strip leading and trailing whitespace"
      ]
    },
    {
      "cell_type": "markdown",
      "metadata": {
        "id": "06cayXLtL9fi"
      },
      "source": [
        "You can find a list of all string methods in the [documentation](https://docs.python.org/3.7/library/stdtypes.html#string-methods)."
      ]
    },
    {
      "cell_type": "markdown",
      "metadata": {
        "id": "p-6hClFjL9fk"
      },
      "source": [
        "###Containers"
      ]
    },
    {
      "cell_type": "markdown",
      "metadata": {
        "id": "FD9H18eQL9fk"
      },
      "source": [
        "Python includes several built-in container types: lists, dictionaries, sets, and tuples."
      ]
    },
    {
      "cell_type": "markdown",
      "metadata": {
        "id": "UsIWOe0LL9fn"
      },
      "source": [
        "####Lists"
      ]
    },
    {
      "cell_type": "markdown",
      "metadata": {
        "id": "wzxX7rgWL9fn"
      },
      "source": [
        "A list is the Python equivalent of an array, but is resizeable and can contain elements of different types:"
      ]
    },
    {
      "cell_type": "code",
      "execution_count": null,
      "metadata": {
        "colab": {
          "base_uri": "https://localhost:8080/"
        },
        "id": "hk3A8pPcL9fp",
        "outputId": "5c704378-0066-4455-807a-204026562c78"
      },
      "outputs": [
        {
          "output_type": "stream",
          "name": "stdout",
          "text": [
            "[3, 1, 2] 2\n",
            "2\n"
          ]
        }
      ],
      "source": [
        "xs = [3, 1, 2]   # Create a list\n",
        "print(xs, xs[2])\n",
        "print(xs[-1])     # Negative indices count from the end of the list; prints \"2\""
      ]
    },
    {
      "cell_type": "code",
      "execution_count": null,
      "metadata": {
        "colab": {
          "base_uri": "https://localhost:8080/"
        },
        "id": "YCjCy_0_L9ft",
        "outputId": "f36c1cde-23e7-46bf-cd3c-d72c70e3c144"
      },
      "outputs": [
        {
          "output_type": "stream",
          "name": "stdout",
          "text": [
            "[3, 1, 'foo']\n"
          ]
        }
      ],
      "source": [
        "xs[2] = 'foo'    # Lists can contain elements of different types\n",
        "print(xs)"
      ]
    },
    {
      "cell_type": "code",
      "execution_count": null,
      "metadata": {
        "colab": {
          "base_uri": "https://localhost:8080/"
        },
        "id": "vJ0x5cF-L9fx",
        "outputId": "349f4ad2-ea84-46cc-dd89-5f25c83114c4"
      },
      "outputs": [
        {
          "output_type": "stream",
          "name": "stdout",
          "text": [
            "[3, 1, 'bar']\n"
          ]
        }
      ],
      "source": [
        "xs.append('bar') # Add a new element to the end of the list\n",
        "print(xs)"
      ]
    },
    {
      "cell_type": "code",
      "execution_count": null,
      "metadata": {
        "colab": {
          "base_uri": "https://localhost:8080/"
        },
        "id": "cxVCNRTNL9f1",
        "outputId": "df957d40-821a-42b0-f659-25f1d91bdae1"
      },
      "outputs": [
        {
          "output_type": "stream",
          "name": "stdout",
          "text": [
            "foo [3, 1]\n"
          ]
        }
      ],
      "source": [
        "x = xs.pop()     # Remove and return the last element of the list\n",
        "print(x, xs)"
      ]
    },
    {
      "cell_type": "markdown",
      "metadata": {
        "id": "ilyoyO34L9f4"
      },
      "source": [
        "As usual, you can find all the gory details about lists in the [documentation](https://docs.python.org/3.7/tutorial/datastructures.html#more-on-lists)."
      ]
    },
    {
      "cell_type": "markdown",
      "metadata": {
        "id": "ovahhxd_L9f5"
      },
      "source": [
        "####Slicing"
      ]
    },
    {
      "cell_type": "markdown",
      "metadata": {
        "id": "YeSYKhv9L9f6"
      },
      "source": [
        "In addition to accessing list elements one at a time, Python provides concise syntax to access sublists; this is known as slicing:"
      ]
    },
    {
      "cell_type": "code",
      "execution_count": null,
      "metadata": {
        "colab": {
          "base_uri": "https://localhost:8080/"
        },
        "id": "ninq666bL9f6",
        "outputId": "559627c1-3dcf-4739-a453-7a3185529791"
      },
      "outputs": [
        {
          "output_type": "stream",
          "name": "stdout",
          "text": [
            "[0, 1, 2, 3, 4]\n",
            "[2, 3]\n",
            "[2, 3, 4]\n",
            "[0, 1]\n",
            "[0, 1, 2, 3, 4]\n",
            "[0, 1, 2, 3]\n",
            "[0, 1, 8, 9, 4]\n"
          ]
        }
      ],
      "source": [
        "nums = list(range(5))    # range is a built-in function that creates a list of integers\n",
        "print(nums)         # Prints \"[0, 1, 2, 3, 4]\"\n",
        "print(nums[2:4])    # Get a slice from index 2 to 4 (exclusive); prints \"[2, 3]\"\n",
        "print(nums[2:])     # Get a slice from index 2 to the end; prints \"[2, 3, 4]\"\n",
        "print(nums[:2])     # Get a slice from the start to index 2 (exclusive); prints \"[0, 1]\"\n",
        "print(nums[:])      # Get a slice of the whole list; prints [\"0, 1, 2, 3, 4]\"\n",
        "print(nums[:-1])    # Slice indices can be negative; prints [\"0, 1, 2, 3]\"\n",
        "nums[2:4] = [8, 9] # Assign a new sublist to a slice\n",
        "print(nums)         # Prints \"[0, 1, 8, 9, 4]\""
      ]
    },
    {
      "cell_type": "markdown",
      "metadata": {
        "id": "UONpMhF4L9f_"
      },
      "source": [
        "####Loops"
      ]
    },
    {
      "cell_type": "markdown",
      "metadata": {
        "id": "_DYz1j6QL9f_"
      },
      "source": [
        "You can loop over the elements of a list like this:"
      ]
    },
    {
      "cell_type": "code",
      "execution_count": null,
      "metadata": {
        "colab": {
          "base_uri": "https://localhost:8080/"
        },
        "id": "4cCOysfWL9gA",
        "outputId": "a7c3ed61-e8d8-49b5-e425-67a5a1c9ce2f"
      },
      "outputs": [
        {
          "output_type": "stream",
          "name": "stdout",
          "text": [
            "cat\n",
            "dog\n",
            "monkey\n"
          ]
        }
      ],
      "source": [
        "animals = ['cat', 'dog', 'monkey']\n",
        "for animal in animals:\n",
        "    print(animal)"
      ]
    },
    {
      "cell_type": "markdown",
      "metadata": {
        "id": "KxIaQs7pL9gE"
      },
      "source": [
        "If you want access to the index of each element within the body of a loop, use the built-in `enumerate` function:"
      ]
    },
    {
      "cell_type": "code",
      "execution_count": null,
      "metadata": {
        "colab": {
          "base_uri": "https://localhost:8080/"
        },
        "id": "JjGnDluWL9gF",
        "outputId": "de4feeeb-e3ae-4ca5-a40a-02638b05d71e"
      },
      "outputs": [
        {
          "output_type": "stream",
          "name": "stdout",
          "text": [
            "#1: cat\n",
            "#2: dog\n",
            "#3: monkey\n"
          ]
        }
      ],
      "source": [
        "animals = ['cat', 'dog', 'monkey']\n",
        "for idx, animal in enumerate(animals):\n",
        "    print('#{}: {}'.format(idx + 1, animal))"
      ]
    },
    {
      "cell_type": "markdown",
      "metadata": {
        "id": "arrLCcMyL9gK"
      },
      "source": [
        "####List comprehensions:"
      ]
    },
    {
      "cell_type": "markdown",
      "metadata": {
        "id": "5Qn2jU_pL9gL"
      },
      "source": [
        "When programming, frequently we want to transform one type of data into another. As a simple example, consider the following code that computes square numbers:"
      ]
    },
    {
      "cell_type": "code",
      "execution_count": null,
      "metadata": {
        "colab": {
          "base_uri": "https://localhost:8080/"
        },
        "id": "IVNEwoMXL9gL",
        "outputId": "861385de-215a-43a0-8d92-77c167eb0ec6"
      },
      "outputs": [
        {
          "output_type": "stream",
          "name": "stdout",
          "text": [
            "[0, 1, 4, 9, 16]\n"
          ]
        }
      ],
      "source": [
        "nums = [0, 1, 2, 3, 4]\n",
        "squares = []\n",
        "for x in nums:\n",
        "    squares.append(x ** 2)\n",
        "print(squares)"
      ]
    },
    {
      "cell_type": "markdown",
      "metadata": {
        "id": "7DmKVUFaL9gQ"
      },
      "source": [
        "You can make this code simpler using a list comprehension:"
      ]
    },
    {
      "cell_type": "code",
      "execution_count": null,
      "metadata": {
        "colab": {
          "base_uri": "https://localhost:8080/"
        },
        "id": "kZxsUfV6L9gR",
        "outputId": "0b91f965-a189-4780-94b7-f857bbf8f272"
      },
      "outputs": [
        {
          "output_type": "stream",
          "name": "stdout",
          "text": [
            "[0, 1, 4, 9, 16]\n"
          ]
        }
      ],
      "source": [
        "nums = [0, 1, 2, 3, 4]\n",
        "squares = [x ** 2 for x in nums]\n",
        "print(squares)"
      ]
    },
    {
      "cell_type": "markdown",
      "metadata": {
        "id": "-D8ARK7tL9gV"
      },
      "source": [
        "List comprehensions can also contain conditions:"
      ]
    },
    {
      "cell_type": "code",
      "execution_count": null,
      "metadata": {
        "colab": {
          "base_uri": "https://localhost:8080/"
        },
        "id": "yUtgOyyYL9gV",
        "outputId": "401b6b13-0efd-4dfa-c254-43eacb25b076"
      },
      "outputs": [
        {
          "output_type": "stream",
          "name": "stdout",
          "text": [
            "[0, 4, 16]\n"
          ]
        }
      ],
      "source": [
        "nums = [0, 1, 2, 3, 4]\n",
        "even_squares = [x ** 2 for x in nums if x % 2 == 0]\n",
        "print(even_squares)"
      ]
    },
    {
      "cell_type": "markdown",
      "metadata": {
        "id": "H8xsUEFpL9gZ"
      },
      "source": [
        "####Dictionaries"
      ]
    },
    {
      "cell_type": "markdown",
      "metadata": {
        "id": "kkjAGMAJL9ga"
      },
      "source": [
        "A dictionary stores (key, value) pairs, similar to a `Map` in Java or an object in Javascript. You can use it like this:"
      ]
    },
    {
      "cell_type": "code",
      "execution_count": null,
      "metadata": {
        "colab": {
          "base_uri": "https://localhost:8080/"
        },
        "id": "XBYI1MrYL9gb",
        "outputId": "9433ce20-60b3-4e3a-bd0c-523b8e2e1d88"
      },
      "outputs": [
        {
          "output_type": "stream",
          "name": "stdout",
          "text": [
            "cute\n",
            "True\n"
          ]
        }
      ],
      "source": [
        "d = {'cat': 'cute', 'dog': 'furry'}  # Create a new dictionary with some data\n",
        "print(d['cat'])       # Get an entry from a dictionary; prints \"cute\"\n",
        "print('cat' in d)     # Check if a dictionary has a given key; prints \"True\""
      ]
    },
    {
      "cell_type": "code",
      "execution_count": null,
      "metadata": {
        "colab": {
          "base_uri": "https://localhost:8080/"
        },
        "id": "pS7e-G-HL9gf",
        "outputId": "aec5e3b4-4886-44d8-d185-a90c31e349a2"
      },
      "outputs": [
        {
          "output_type": "stream",
          "name": "stdout",
          "text": [
            "wet\n"
          ]
        }
      ],
      "source": [
        "d['fish'] = 'wet'    # Set an entry in a dictionary\n",
        "print(d['fish'])      # Prints \"wet\""
      ]
    },
    {
      "cell_type": "code",
      "execution_count": null,
      "metadata": {
        "colab": {
          "base_uri": "https://localhost:8080/",
          "height": 141
        },
        "id": "tFY065ItL9gi",
        "outputId": "4e931679-af12-4e1a-bd00-a7b99eb81a42"
      },
      "outputs": [
        {
          "output_type": "error",
          "ename": "KeyError",
          "evalue": "'monkey'",
          "traceback": [
            "\u001b[0;31m---------------------------------------------------------------------------\u001b[0m",
            "\u001b[0;31mKeyError\u001b[0m                                  Traceback (most recent call last)",
            "\u001b[0;32m<ipython-input-16-78fc9745d9cf>\u001b[0m in \u001b[0;36m<cell line: 1>\u001b[0;34m()\u001b[0m\n\u001b[0;32m----> 1\u001b[0;31m \u001b[0mprint\u001b[0m\u001b[0;34m(\u001b[0m\u001b[0md\u001b[0m\u001b[0;34m[\u001b[0m\u001b[0;34m'monkey'\u001b[0m\u001b[0;34m]\u001b[0m\u001b[0;34m)\u001b[0m  \u001b[0;31m# KeyError: 'monkey' not a key of d\u001b[0m\u001b[0;34m\u001b[0m\u001b[0;34m\u001b[0m\u001b[0m\n\u001b[0m",
            "\u001b[0;31mKeyError\u001b[0m: 'monkey'"
          ]
        }
      ],
      "source": [
        "print(d['monkey'])  # KeyError: 'monkey' not a key of d"
      ]
    },
    {
      "cell_type": "code",
      "execution_count": null,
      "metadata": {
        "colab": {
          "base_uri": "https://localhost:8080/"
        },
        "id": "8TjbEWqML9gl",
        "outputId": "2087e5ea-b581-4918-a64c-9c38bdc61c46"
      },
      "outputs": [
        {
          "output_type": "stream",
          "name": "stdout",
          "text": [
            "N/A\n",
            "wet\n"
          ]
        }
      ],
      "source": [
        "print(d.get('monkey', 'N/A'))  # Get an element with a default; prints \"N/A\"\n",
        "print(d.get('fish', 'N/A'))    # Get an element with a default; prints \"wet\""
      ]
    },
    {
      "cell_type": "code",
      "execution_count": null,
      "metadata": {
        "colab": {
          "base_uri": "https://localhost:8080/"
        },
        "id": "0EItdNBJL9go",
        "outputId": "d9b0ba99-0e7d-4521-a043-ed40e063b319"
      },
      "outputs": [
        {
          "output_type": "stream",
          "name": "stdout",
          "text": [
            "N/A\n"
          ]
        }
      ],
      "source": [
        "del d['fish']        # Remove an element from a dictionary\n",
        "print(d.get('fish', 'N/A')) # \"fish\" is no longer a key; prints \"N/A\""
      ]
    },
    {
      "cell_type": "markdown",
      "metadata": {
        "id": "wqm4dRZNL9gr"
      },
      "source": [
        "You can find all you need to know about dictionaries in the [documentation](https://docs.python.org/2/library/stdtypes.html#dict)."
      ]
    },
    {
      "cell_type": "markdown",
      "metadata": {
        "id": "IxwEqHlGL9gr"
      },
      "source": [
        "It is easy to iterate over the keys in a dictionary:"
      ]
    },
    {
      "cell_type": "code",
      "execution_count": null,
      "metadata": {
        "id": "rYfz7ZKNL9gs"
      },
      "outputs": [],
      "source": [
        "d = {'person': 2, 'cat': 4, 'spider': 8}\n",
        "for animal, legs in d.items():\n",
        "    print('A {} has {} legs'.format(animal, legs))"
      ]
    },
    {
      "cell_type": "markdown",
      "metadata": {
        "id": "17sxiOpzL9gz"
      },
      "source": [
        "Dictionary comprehensions: These are similar to list comprehensions, but allow you to easily construct dictionaries. For example:"
      ]
    },
    {
      "cell_type": "code",
      "execution_count": null,
      "metadata": {
        "id": "8PB07imLL9gz"
      },
      "outputs": [],
      "source": [
        "nums = [0, 1, 2, 3, 4]\n",
        "even_num_to_square = {x: x ** 2 for x in nums if x % 2 == 0}\n",
        "print(even_num_to_square)"
      ]
    },
    {
      "cell_type": "markdown",
      "metadata": {
        "id": "V9MHfUdvL9g2"
      },
      "source": [
        "####Sets"
      ]
    },
    {
      "cell_type": "markdown",
      "metadata": {
        "id": "Rpm4UtNpL9g2"
      },
      "source": [
        "A set is an unordered collection of distinct elements. As a simple example, consider the following:"
      ]
    },
    {
      "cell_type": "code",
      "execution_count": null,
      "metadata": {
        "colab": {
          "base_uri": "https://localhost:8080/"
        },
        "id": "MmyaniLsL9g2",
        "outputId": "9036887e-cb25-418c-82e6-641fcade2275"
      },
      "outputs": [
        {
          "output_type": "stream",
          "name": "stdout",
          "text": [
            "True\n",
            "False\n"
          ]
        }
      ],
      "source": [
        "animals = {'cat', 'dog'}\n",
        "print('cat' in animals)   # Check if an element is in a set; prints \"True\"\n",
        "print('fish' in animals)  # prints \"False\"\n"
      ]
    },
    {
      "cell_type": "code",
      "execution_count": null,
      "metadata": {
        "colab": {
          "base_uri": "https://localhost:8080/"
        },
        "id": "ElJEyK86L9g6",
        "outputId": "ab562e69-88ca-408a-8309-745c904c9ec2"
      },
      "outputs": [
        {
          "output_type": "stream",
          "name": "stdout",
          "text": [
            "True\n",
            "3\n"
          ]
        }
      ],
      "source": [
        "animals.add('fish')      # Add an element to a set\n",
        "print('fish' in animals)\n",
        "print(len(animals))       # Number of elements in a set;"
      ]
    },
    {
      "cell_type": "code",
      "execution_count": null,
      "metadata": {
        "colab": {
          "base_uri": "https://localhost:8080/"
        },
        "id": "5uGmrxdPL9g9",
        "outputId": "fb15bc67-417a-4a48-a525-c974265089ba"
      },
      "outputs": [
        {
          "output_type": "stream",
          "name": "stdout",
          "text": [
            "3\n",
            "2\n"
          ]
        }
      ],
      "source": [
        "animals.add('cat')       # Adding an element that is already in the set does nothing\n",
        "print(len(animals))\n",
        "animals.remove('cat')    # Remove an element from a set\n",
        "print(len(animals))"
      ]
    },
    {
      "cell_type": "markdown",
      "metadata": {
        "id": "zk2DbvLKL9g_"
      },
      "source": [
        "_Loops_: Iterating over a set has the same syntax as iterating over a list; however since sets are unordered, you cannot make assumptions about the order in which you visit the elements of the set:"
      ]
    },
    {
      "cell_type": "code",
      "execution_count": null,
      "metadata": {
        "colab": {
          "base_uri": "https://localhost:8080/"
        },
        "id": "K47KYNGyL9hA",
        "outputId": "2a032fc7-4a67-4bdb-9357-2ba3273e0bc1"
      },
      "outputs": [
        {
          "output_type": "stream",
          "name": "stdout",
          "text": [
            "#1: fish\n",
            "#2: dog\n",
            "#3: cat\n"
          ]
        }
      ],
      "source": [
        "animals = {'cat', 'dog', 'fish'}\n",
        "for idx, animal in enumerate(animals):\n",
        "    print('#{}: {}'.format(idx + 1, animal))"
      ]
    },
    {
      "cell_type": "markdown",
      "metadata": {
        "id": "puq4S8buL9hC"
      },
      "source": [
        "Set comprehensions: Like lists and dictionaries, we can easily construct sets using set comprehensions:"
      ]
    },
    {
      "cell_type": "code",
      "execution_count": null,
      "metadata": {
        "colab": {
          "base_uri": "https://localhost:8080/"
        },
        "id": "iw7k90k3L9hC",
        "outputId": "de078d7b-45a6-4c1e-e413-ff93f2154333"
      },
      "outputs": [
        {
          "output_type": "stream",
          "name": "stdout",
          "text": [
            "{0, 1, 2, 3, 4, 5}\n"
          ]
        }
      ],
      "source": [
        "from math import sqrt\n",
        "print({int(sqrt(x)) for x in range(30)})"
      ]
    },
    {
      "cell_type": "markdown",
      "metadata": {
        "id": "qPsHSKB1L9hF"
      },
      "source": [
        "####Tuples"
      ]
    },
    {
      "cell_type": "markdown",
      "metadata": {
        "id": "kucc0LKVL9hG"
      },
      "source": [
        "A tuple is an (immutable) ordered list of values. A tuple is in many ways similar to a list; one of the most important differences is that tuples can be used as keys in dictionaries and as elements of sets, while lists cannot. Here is a trivial example:"
      ]
    },
    {
      "cell_type": "code",
      "execution_count": null,
      "metadata": {
        "colab": {
          "base_uri": "https://localhost:8080/"
        },
        "id": "9wHUyTKxL9hH",
        "outputId": "2b5629d8-c193-42a6-ca8d-f9efc33477ee"
      },
      "outputs": [
        {
          "output_type": "stream",
          "name": "stdout",
          "text": [
            "<class 'tuple'>\n",
            "{(0, 1): 0, (1, 2): 1, (2, 3): 2, (3, 4): 3, (4, 5): 4, (5, 6): 5, (6, 7): 6, (7, 8): 7, (8, 9): 8, (9, 10): 9}\n",
            "5\n",
            "1\n"
          ]
        }
      ],
      "source": [
        "d = {(x, x + 1): x for x in range(10)}  # Create a dictionary with tuple keys\n",
        "t = (5, 6)       # Create a tuple\n",
        "print(type(t))\n",
        "print(d)\n",
        "print(d[t])\n",
        "print(d[(1, 2)])"
      ]
    },
    {
      "cell_type": "code",
      "execution_count": null,
      "metadata": {
        "colab": {
          "base_uri": "https://localhost:8080/",
          "height": 141
        },
        "id": "HoO8zYKzL9hJ",
        "outputId": "104c6c55-a976-418a-d06d-8456a2526bdb"
      },
      "outputs": [
        {
          "output_type": "error",
          "ename": "TypeError",
          "evalue": "'tuple' object does not support item assignment",
          "traceback": [
            "\u001b[0;31m---------------------------------------------------------------------------\u001b[0m",
            "\u001b[0;31mTypeError\u001b[0m                                 Traceback (most recent call last)",
            "\u001b[0;32m<ipython-input-39-96b0d528a5ed>\u001b[0m in \u001b[0;36m<cell line: 1>\u001b[0;34m()\u001b[0m\n\u001b[0;32m----> 1\u001b[0;31m \u001b[0mt\u001b[0m\u001b[0;34m[\u001b[0m\u001b[0;36m0\u001b[0m\u001b[0;34m]\u001b[0m \u001b[0;34m=\u001b[0m \u001b[0;36m1\u001b[0m \u001b[0;31m# tuples are immutable\u001b[0m\u001b[0;34m\u001b[0m\u001b[0;34m\u001b[0m\u001b[0m\n\u001b[0m",
            "\u001b[0;31mTypeError\u001b[0m: 'tuple' object does not support item assignment"
          ]
        }
      ],
      "source": [
        "t[0] = 1 # tuples are immutable"
      ]
    },
    {
      "cell_type": "markdown",
      "metadata": {
        "id": "AXA4jrEOL9hM"
      },
      "source": [
        "###Functions"
      ]
    },
    {
      "cell_type": "markdown",
      "metadata": {
        "id": "WaRms-QfL9hN"
      },
      "source": [
        "Python functions are defined using the `def` keyword. For example:"
      ]
    },
    {
      "cell_type": "code",
      "execution_count": null,
      "metadata": {
        "colab": {
          "base_uri": "https://localhost:8080/"
        },
        "id": "kiMDUr58L9hN",
        "outputId": "32ae3d8d-e3bb-466f-b8a5-9f038ad64742"
      },
      "outputs": [
        {
          "output_type": "stream",
          "name": "stdout",
          "text": [
            "negative\n",
            "zero\n",
            "positive\n"
          ]
        }
      ],
      "source": [
        "def sign(x):\n",
        "    if x > 0:\n",
        "        return 'positive'\n",
        "    elif x < 0:\n",
        "        return 'negative'\n",
        "    else:\n",
        "        return 'zero'\n",
        "\n",
        "for x in [-1, 0, 1]:\n",
        "    print(sign(x))"
      ]
    },
    {
      "cell_type": "markdown",
      "metadata": {
        "id": "U-QJFt8TL9hR"
      },
      "source": [
        "We will often define functions to take optional keyword arguments, like this:"
      ]
    },
    {
      "cell_type": "code",
      "execution_count": null,
      "metadata": {
        "colab": {
          "base_uri": "https://localhost:8080/"
        },
        "id": "PfsZ3DazL9hR",
        "outputId": "beb65861-2437-4382-e0a1-0bbde2282583"
      },
      "outputs": [
        {
          "output_type": "stream",
          "name": "stdout",
          "text": [
            "HELLO, BOB\n",
            "HELLO, FRED\n"
          ]
        }
      ],
      "source": [
        "def hello(name, loud=False):\n",
        "    if loud:\n",
        "        print('HELLO, {}'.format(name.upper()))\n",
        "    else:\n",
        "        print('Hello, {}!'.format(name))\n",
        "\n",
        "hello('Bob')\n",
        "hello('Fred', loud=True)"
      ]
    },
    {
      "cell_type": "markdown",
      "metadata": {
        "id": "ObA9PRtQL9hT"
      },
      "source": [
        "###Classes"
      ]
    },
    {
      "cell_type": "markdown",
      "metadata": {
        "id": "hAzL_lTkL9hU"
      },
      "source": [
        "The syntax for defining classes in Python is straightforward:"
      ]
    },
    {
      "cell_type": "code",
      "execution_count": null,
      "metadata": {
        "colab": {
          "base_uri": "https://localhost:8080/"
        },
        "id": "RWdbaGigL9hU",
        "outputId": "2ebd0c29-326e-433c-f2c6-b5efb05d1efe"
      },
      "outputs": [
        {
          "output_type": "stream",
          "name": "stdout",
          "text": [
            "Hello, Fred!\n",
            "HELLO, FRED\n"
          ]
        }
      ],
      "source": [
        "class Greeter:\n",
        "\n",
        "    # Constructor\n",
        "    def __init__(self, name):\n",
        "        self.name = name  # Create an instance variable\n",
        "\n",
        "    # Instance method\n",
        "    def greet(self, loud=False):\n",
        "        if loud:\n",
        "          print('HELLO, {}'.format(self.name.upper()))\n",
        "        else:\n",
        "          print('Hello, {}!'.format(self.name))\n",
        "\n",
        "g = Greeter('Fred')  # Construct an instance of the Greeter class\n",
        "g.greet()            # Call an instance method; prints \"Hello, Fred\"\n",
        "g.greet(loud=True)   # Call an instance method; prints \"HELLO, FRED!\""
      ]
    },
    {
      "cell_type": "markdown",
      "metadata": {
        "id": "3cfrOV4dL9hW"
      },
      "source": [
        "##Numpy"
      ]
    },
    {
      "cell_type": "markdown",
      "metadata": {
        "id": "fY12nHhyL9hX"
      },
      "source": [
        "Numpy is the core library for scientific computing in Python. It provides a high-performance multidimensional array object, and tools for working with these arrays. If you are already familiar with MATLAB, you might find this [tutorial](http://wiki.scipy.org/NumPy_for_Matlab_Users) useful to get started with Numpy."
      ]
    },
    {
      "cell_type": "markdown",
      "metadata": {
        "id": "lZMyAdqhL9hY"
      },
      "source": [
        "To use Numpy, we first need to import the `numpy` package:"
      ]
    },
    {
      "cell_type": "code",
      "execution_count": null,
      "metadata": {
        "id": "58QdX8BLL9hZ"
      },
      "outputs": [],
      "source": [
        "import numpy as np"
      ]
    },
    {
      "cell_type": "markdown",
      "metadata": {
        "id": "DDx6v1EdL9hb"
      },
      "source": [
        "###Arrays"
      ]
    },
    {
      "cell_type": "markdown",
      "metadata": {
        "id": "f-Zv3f7LL9hc"
      },
      "source": [
        "A numpy array is a grid of values, all of the same type, and is indexed by a tuple of nonnegative integers. The number of dimensions is the rank of the array; the shape of an array is a tuple of integers giving the size of the array along each dimension."
      ]
    },
    {
      "cell_type": "markdown",
      "metadata": {
        "id": "_eMTRnZRL9hc"
      },
      "source": [
        "We can initialize numpy arrays from nested Python lists, and access elements using square brackets:"
      ]
    },
    {
      "cell_type": "code",
      "execution_count": null,
      "metadata": {
        "colab": {
          "base_uri": "https://localhost:8080/"
        },
        "id": "-l3JrGxCL9hc",
        "outputId": "1f5e50ff-46ba-4c8b-9fe3-1d9b253f61f9"
      },
      "outputs": [
        {
          "output_type": "stream",
          "name": "stdout",
          "text": [
            "<class 'numpy.ndarray'> (3,) 1 2 3\n",
            "[5 2 3]\n"
          ]
        }
      ],
      "source": [
        "a = np.array([1, 2, 3])  # Create a rank 1 array\n",
        "print(type(a), a.shape, a[0], a[1], a[2])\n",
        "a[0] = 5                 # Change an element of the array\n",
        "print(a)"
      ]
    },
    {
      "cell_type": "code",
      "execution_count": null,
      "metadata": {
        "colab": {
          "base_uri": "https://localhost:8080/"
        },
        "id": "ma6mk-kdL9hh",
        "outputId": "514cd0d4-7289-4d3d-a018-7381dcfb8536"
      },
      "outputs": [
        {
          "output_type": "stream",
          "name": "stdout",
          "text": [
            "[[1 2 3]\n",
            " [4 5 6]]\n"
          ]
        }
      ],
      "source": [
        "b = np.array([[1,2,3],[4,5,6]])   # Create a rank 2 array\n",
        "print(b)"
      ]
    },
    {
      "cell_type": "code",
      "execution_count": null,
      "metadata": {
        "colab": {
          "base_uri": "https://localhost:8080/"
        },
        "id": "ymfSHAwtL9hj",
        "outputId": "1c70429c-8067-4788-dbe0-a286ea5d9ad8"
      },
      "outputs": [
        {
          "output_type": "stream",
          "name": "stdout",
          "text": [
            "(2, 3)\n",
            "1 2 4\n"
          ]
        }
      ],
      "source": [
        "print(b.shape)\n",
        "print(b[0, 0], b[0, 1], b[1, 0])"
      ]
    },
    {
      "cell_type": "markdown",
      "metadata": {
        "id": "F2qwdyvuL9hn"
      },
      "source": [
        "Numpy also provides many functions to create arrays:"
      ]
    },
    {
      "cell_type": "code",
      "execution_count": null,
      "metadata": {
        "colab": {
          "base_uri": "https://localhost:8080/"
        },
        "id": "mVTN_EBqL9hn",
        "outputId": "6231f842-8782-489d-aaef-52d592a8fb9e"
      },
      "outputs": [
        {
          "output_type": "stream",
          "name": "stdout",
          "text": [
            "[[0. 0.]\n",
            " [0. 0.]]\n"
          ]
        }
      ],
      "source": [
        "a = np.zeros((2,2))  # Create an array of all zeros\n",
        "print(a)"
      ]
    },
    {
      "cell_type": "code",
      "execution_count": null,
      "metadata": {
        "colab": {
          "base_uri": "https://localhost:8080/"
        },
        "id": "skiKlNmlL9h5",
        "outputId": "fee7d633-4045-487f-f083-29987a69e978"
      },
      "outputs": [
        {
          "output_type": "stream",
          "name": "stdout",
          "text": [
            "[[1. 1.]]\n"
          ]
        }
      ],
      "source": [
        "b = np.ones((1,2))   # Create an array of all ones\n",
        "print(b)"
      ]
    },
    {
      "cell_type": "code",
      "execution_count": null,
      "metadata": {
        "colab": {
          "base_uri": "https://localhost:8080/"
        },
        "id": "HtFsr03bL9h7",
        "outputId": "25e79e27-db0d-41f7-9b42-a614866546c5"
      },
      "outputs": [
        {
          "output_type": "stream",
          "name": "stdout",
          "text": [
            "[[8 8]\n",
            " [8 8]]\n"
          ]
        }
      ],
      "source": [
        "c = np.full((2,2), 8) # Create a constant array\n",
        "print(c)"
      ]
    },
    {
      "cell_type": "code",
      "execution_count": null,
      "metadata": {
        "colab": {
          "base_uri": "https://localhost:8080/"
        },
        "id": "-QcALHvkL9h9",
        "outputId": "6ea0b17b-a430-4d05-e2eb-edb8e48d74f0"
      },
      "outputs": [
        {
          "output_type": "stream",
          "name": "stdout",
          "text": [
            "[[1. 0.]\n",
            " [0. 1.]]\n"
          ]
        }
      ],
      "source": [
        "d = np.eye(2)        # Create a 2x2 identity matrix\n",
        "print(d)"
      ]
    },
    {
      "cell_type": "code",
      "execution_count": null,
      "metadata": {
        "colab": {
          "base_uri": "https://localhost:8080/"
        },
        "id": "RCpaYg9qL9iA",
        "outputId": "4272af5d-fbee-4de6-cd34-1420686e69cf"
      },
      "outputs": [
        {
          "output_type": "stream",
          "name": "stdout",
          "text": [
            "[[0.87515334 0.72589538]\n",
            " [0.04491882 0.95346805]]\n"
          ]
        }
      ],
      "source": [
        "e = np.random.random((2,2)) # Create an array filled with random values\n",
        "print(e)"
      ]
    },
    {
      "cell_type": "markdown",
      "metadata": {
        "id": "jI5qcSDfL9iC"
      },
      "source": [
        "###Array indexing"
      ]
    },
    {
      "cell_type": "markdown",
      "metadata": {
        "id": "M-E4MUeVL9iC"
      },
      "source": [
        "Numpy offers several ways to index into arrays."
      ]
    },
    {
      "cell_type": "markdown",
      "metadata": {
        "id": "QYv4JyIEL9iD"
      },
      "source": [
        "Slicing: Similar to Python lists, numpy arrays can be sliced. Since arrays may be multidimensional, you must specify a slice for each dimension of the array:"
      ]
    },
    {
      "cell_type": "code",
      "execution_count": null,
      "metadata": {
        "colab": {
          "base_uri": "https://localhost:8080/"
        },
        "id": "wLWA0udwL9iD",
        "outputId": "3c071382-ad3b-4a50-c405-d3fc1e627ca0"
      },
      "outputs": [
        {
          "output_type": "stream",
          "name": "stdout",
          "text": [
            "[[2 3]\n",
            " [6 7]]\n"
          ]
        }
      ],
      "source": [
        "import numpy as np\n",
        "\n",
        "# Create the following rank 2 array with shape (3, 4)\n",
        "# [[ 1  2  3  4]\n",
        "#  [ 5  6  7  8]\n",
        "#  [ 9 10 11 12]]\n",
        "a = np.array([[1,2,3,4], [5,6,7,8], [9,10,11,12]])\n",
        "\n",
        "# Use slicing to pull out the subarray consisting of the first 2 rows\n",
        "# and columns 1 and 2; b is the following array of shape (2, 2):\n",
        "# [[2 3]\n",
        "#  [6 7]]\n",
        "b = a[:2, 1:3]\n",
        "print(b)"
      ]
    },
    {
      "cell_type": "markdown",
      "metadata": {
        "id": "KahhtZKYL9iF"
      },
      "source": [
        "A slice of an array is a view into the same data, so modifying it will modify the original array."
      ]
    },
    {
      "cell_type": "code",
      "execution_count": null,
      "metadata": {
        "colab": {
          "base_uri": "https://localhost:8080/"
        },
        "id": "1kmtaFHuL9iG",
        "outputId": "00c6dc6c-95ec-49f4-8016-c2d41b991f2d"
      },
      "outputs": [
        {
          "output_type": "stream",
          "name": "stdout",
          "text": [
            "77\n",
            "77\n",
            "[[ 1 77  3  4]\n",
            " [ 5  6  7  8]\n",
            " [ 9 10 11 12]]\n",
            "[[77  3]\n",
            " [ 6  7]]\n"
          ]
        }
      ],
      "source": [
        "print(a[0, 1])\n",
        "b[0, 0] = 77    # b[0, 0] is the same piece of data as a[0, 1]\n",
        "print(a[0, 1])\n",
        "print(a)\n",
        "print(b)"
      ]
    },
    {
      "cell_type": "markdown",
      "metadata": {
        "id": "_Zcf3zi-L9iI"
      },
      "source": [
        "You can also mix integer indexing with slice indexing. However, doing so will yield an array of lower rank than the original array. Note that this is quite different from the way that MATLAB handles array slicing:"
      ]
    },
    {
      "cell_type": "code",
      "execution_count": null,
      "metadata": {
        "colab": {
          "base_uri": "https://localhost:8080/"
        },
        "id": "G6lfbPuxL9iJ",
        "outputId": "c1b24d05-d070-4627-f1b1-5b51379ed3bf"
      },
      "outputs": [
        {
          "output_type": "stream",
          "name": "stdout",
          "text": [
            "[[ 1  2  3  4]\n",
            " [ 5  6  7  8]\n",
            " [ 9 10 11 12]]\n"
          ]
        }
      ],
      "source": [
        "# Create the following rank 2 array with shape (3, 4)\n",
        "a = np.array([[1,2,3,4], [5,6,7,8], [9,10,11,12]])\n",
        "print(a)"
      ]
    },
    {
      "cell_type": "markdown",
      "metadata": {
        "id": "NCye3NXhL9iL"
      },
      "source": [
        "Two ways of accessing the data in the middle row of the array.\n",
        "Mixing integer indexing with slices yields an array of lower rank,\n",
        "while using only slices yields an array of the same rank as the\n",
        "original array:"
      ]
    },
    {
      "cell_type": "code",
      "execution_count": null,
      "metadata": {
        "colab": {
          "base_uri": "https://localhost:8080/"
        },
        "id": "EOiEMsmNL9iL",
        "outputId": "2a2e7df3-6673-47cb-82cd-3ba45df9a326"
      },
      "outputs": [
        {
          "output_type": "stream",
          "name": "stdout",
          "text": [
            "[5 6 7 8] (4,)\n",
            "[[5 6 7 8]] (1, 4)\n",
            "[[5 6 7 8]] (1, 4)\n"
          ]
        }
      ],
      "source": [
        "row_r1 = a[1, :]    # Rank 1 view of the second row of a\n",
        "row_r2 = a[1:2, :]  # Rank 2 view of the second row of a\n",
        "row_r3 = a[[1], :]  # Rank 2 view of the second row of a\n",
        "print(row_r1, row_r1.shape)\n",
        "print(row_r2, row_r2.shape)\n",
        "print(row_r3, row_r3.shape)"
      ]
    },
    {
      "cell_type": "code",
      "execution_count": null,
      "metadata": {
        "colab": {
          "base_uri": "https://localhost:8080/"
        },
        "id": "JXu73pfDL9iN",
        "outputId": "e0f80a1c-1964-4ba9-ab34-615ba3ce1f9f"
      },
      "outputs": [
        {
          "output_type": "stream",
          "name": "stdout",
          "text": [
            "[ 2  6 10] (3,)\n",
            "\n",
            "[[ 2]\n",
            " [ 6]\n",
            " [10]] (3, 1)\n"
          ]
        }
      ],
      "source": [
        "# We can make the same distinction when accessing columns of an array:\n",
        "col_r1 = a[:, 1]\n",
        "col_r2 = a[:, 1:2]\n",
        "print(col_r1, col_r1.shape)\n",
        "print()\n",
        "print(col_r2, col_r2.shape)"
      ]
    },
    {
      "cell_type": "markdown",
      "metadata": {
        "id": "VP3916bOL9iP"
      },
      "source": [
        "Integer array indexing: When you index into numpy arrays using slicing, the resulting array view will always be a subarray of the original array. In contrast, integer array indexing allows you to construct arbitrary arrays using the data from another array. Here is an example:"
      ]
    },
    {
      "cell_type": "code",
      "execution_count": null,
      "metadata": {
        "colab": {
          "base_uri": "https://localhost:8080/"
        },
        "id": "TBnWonIDL9iP",
        "outputId": "408d08c3-e0d4-4ecf-a860-0047bd98496f"
      },
      "outputs": [
        {
          "output_type": "stream",
          "name": "stdout",
          "text": [
            "[[1 2]\n",
            " [3 4]\n",
            " [5 6]]\n",
            "[1 4 5]\n",
            "[1 4 5]\n"
          ]
        }
      ],
      "source": [
        "a = np.array([[1,2], [3, 4], [5, 6]])\n",
        "\n",
        "# An example of integer array indexing.\n",
        "# The returned array will have shape (3,) and\n",
        "print(a)\n",
        "print(a[[0, 1, 2], [0, 1, 0]])\n",
        "\n",
        "# The above example of integer array indexing is equivalent to this:\n",
        "print(np.array([a[0, 0], a[1, 1], a[2, 0]]))"
      ]
    },
    {
      "cell_type": "code",
      "execution_count": null,
      "metadata": {
        "colab": {
          "base_uri": "https://localhost:8080/"
        },
        "id": "n7vuati-L9iR",
        "outputId": "d0c90dae-1994-4ac9-ab1d-6c00d9580c4c"
      },
      "outputs": [
        {
          "output_type": "stream",
          "name": "stdout",
          "text": [
            "[2 2]\n",
            "[2 2]\n"
          ]
        }
      ],
      "source": [
        "# When using integer array indexing, you can reuse the same\n",
        "# element from the source array:\n",
        "print(a[[0, 0], [1, 1]])\n",
        "\n",
        "# Equivalent to the previous integer array indexing example\n",
        "print(np.array([a[0, 1], a[0, 1]]))"
      ]
    },
    {
      "cell_type": "markdown",
      "metadata": {
        "id": "kaipSLafL9iU"
      },
      "source": [
        "One useful trick with integer array indexing is selecting or mutating one element from each row of a matrix:"
      ]
    },
    {
      "cell_type": "code",
      "execution_count": null,
      "metadata": {
        "colab": {
          "base_uri": "https://localhost:8080/"
        },
        "id": "ehqsV7TXL9iU",
        "outputId": "87ca4bc4-fe43-493f-c053-5fa7bc7e12d3"
      },
      "outputs": [
        {
          "output_type": "stream",
          "name": "stdout",
          "text": [
            "[[ 1  2  3]\n",
            " [ 4  5  6]\n",
            " [ 7  8  9]\n",
            " [10 11 12]]\n"
          ]
        }
      ],
      "source": [
        "# Create a new array from which we will select elements\n",
        "a = np.array([[1,2,3], [4,5,6], [7,8,9], [10, 11, 12]])\n",
        "print(a)"
      ]
    },
    {
      "cell_type": "code",
      "execution_count": null,
      "metadata": {
        "colab": {
          "base_uri": "https://localhost:8080/"
        },
        "id": "pAPOoqy5L9iV",
        "outputId": "c6858ad9-e32e-4284-ac49-e196142ceb5e"
      },
      "outputs": [
        {
          "output_type": "stream",
          "name": "stdout",
          "text": [
            "[ 1  6  7 11]\n"
          ]
        }
      ],
      "source": [
        "# Create an array of indices\n",
        "b = np.array([0, 2, 0, 1])\n",
        "\n",
        "# Select one element from each row of a using the indices in b\n",
        "print(a[np.arange(4), b])  # Prints \"[ 1  6  7 11]\""
      ]
    },
    {
      "cell_type": "code",
      "execution_count": null,
      "metadata": {
        "colab": {
          "base_uri": "https://localhost:8080/"
        },
        "id": "6v1PdI1DL9ib",
        "outputId": "b0582d01-5772-4e06-aee7-2deada1af1ac"
      },
      "outputs": [
        {
          "output_type": "stream",
          "name": "stdout",
          "text": [
            "[[11  2  3]\n",
            " [ 4  5 16]\n",
            " [17  8  9]\n",
            " [10 21 12]]\n"
          ]
        }
      ],
      "source": [
        "# Mutate one element from each row of a using the indices in b\n",
        "a[np.arange(4), b] += 10\n",
        "print(a)"
      ]
    },
    {
      "cell_type": "markdown",
      "metadata": {
        "id": "kaE8dBGgL9id"
      },
      "source": [
        "Boolean array indexing: Boolean array indexing lets you pick out arbitrary elements of an array. Frequently this type of indexing is used to select the elements of an array that satisfy some condition. Here is an example:"
      ]
    },
    {
      "cell_type": "code",
      "execution_count": null,
      "metadata": {
        "colab": {
          "base_uri": "https://localhost:8080/"
        },
        "id": "32PusjtKL9id",
        "outputId": "454deb08-ffb1-48ef-c4b9-faea32140803"
      },
      "outputs": [
        {
          "output_type": "stream",
          "name": "stdout",
          "text": [
            "[[False False]\n",
            " [ True  True]\n",
            " [ True  True]]\n"
          ]
        }
      ],
      "source": [
        "import numpy as np\n",
        "\n",
        "a = np.array([[1,2], [3, 4], [5, 6]])\n",
        "\n",
        "bool_idx = (a > 2)  # Find the elements of a that are bigger than 2;\n",
        "                    # this returns a numpy array of Booleans of the same\n",
        "                    # shape as a, where each slot of bool_idx tells\n",
        "                    # whether that element of a is > 2.\n",
        "\n",
        "print(bool_idx)"
      ]
    },
    {
      "cell_type": "code",
      "execution_count": null,
      "metadata": {
        "colab": {
          "base_uri": "https://localhost:8080/"
        },
        "id": "cb2IRMXaL9if",
        "outputId": "c55efc99-c935-43b1-cdec-2cd20385083d"
      },
      "outputs": [
        {
          "output_type": "stream",
          "name": "stdout",
          "text": [
            "[3 4 5 6]\n",
            "[3 4 5 6]\n"
          ]
        }
      ],
      "source": [
        "# We use boolean array indexing to construct a rank 1 array\n",
        "# consisting of the elements of a corresponding to the True values\n",
        "# of bool_idx\n",
        "print(a[bool_idx])\n",
        "\n",
        "# We can do all of the above in a single concise statement:\n",
        "print(a[a > 2])"
      ]
    },
    {
      "cell_type": "markdown",
      "metadata": {
        "id": "CdofMonAL9ih"
      },
      "source": [
        "For brevity we have left out a lot of details about numpy array indexing; if you want to know more you should read the documentation."
      ]
    },
    {
      "cell_type": "markdown",
      "metadata": {
        "id": "jTctwqdQL9ih"
      },
      "source": [
        "###Datatypes"
      ]
    },
    {
      "cell_type": "markdown",
      "metadata": {
        "id": "kSZQ1WkIL9ih"
      },
      "source": [
        "Every numpy array is a grid of elements of the same type. Numpy provides a large set of numeric datatypes that you can use to construct arrays. Numpy tries to guess a datatype when you create an array, but functions that construct arrays usually also include an optional argument to explicitly specify the datatype. Here is an example:"
      ]
    },
    {
      "cell_type": "code",
      "execution_count": null,
      "metadata": {
        "colab": {
          "base_uri": "https://localhost:8080/"
        },
        "id": "4za4O0m5L9ih",
        "outputId": "bb631fd3-e631-4f7e-c11d-629e22e0ec9f"
      },
      "outputs": [
        {
          "output_type": "stream",
          "name": "stdout",
          "text": [
            "int64 float64 int64\n"
          ]
        }
      ],
      "source": [
        "x = np.array([1, 2])  # Let numpy choose the datatype\n",
        "y = np.array([1.0, 2.0])  # Let numpy choose the datatype\n",
        "z = np.array([1, 2], dtype=np.int64)  # Force a particular datatype\n",
        "\n",
        "print(x.dtype, y.dtype, z.dtype)"
      ]
    },
    {
      "cell_type": "markdown",
      "metadata": {
        "id": "RLVIsZQpL9ik"
      },
      "source": [
        "You can read all about numpy datatypes in the [documentation](http://docs.scipy.org/doc/numpy/reference/arrays.dtypes.html)."
      ]
    },
    {
      "cell_type": "markdown",
      "metadata": {
        "id": "TuB-fdhIL9ik"
      },
      "source": [
        "###Array math"
      ]
    },
    {
      "cell_type": "markdown",
      "metadata": {
        "id": "18e8V8elL9ik"
      },
      "source": [
        "Basic mathematical functions operate elementwise on arrays, and are available both as operator overloads and as functions in the numpy module:"
      ]
    },
    {
      "cell_type": "code",
      "execution_count": null,
      "metadata": {
        "colab": {
          "base_uri": "https://localhost:8080/"
        },
        "id": "gHKvBrSKL9il",
        "outputId": "330bc7d8-2b8a-4db7-f99c-d63f452c8c0d"
      },
      "outputs": [
        {
          "output_type": "stream",
          "name": "stdout",
          "text": [
            "[[ 6.  8.]\n",
            " [10. 12.]]\n",
            "[[ 6.  8.]\n",
            " [10. 12.]]\n"
          ]
        }
      ],
      "source": [
        "x = np.array([[1,2],[3,4]], dtype=np.float64)\n",
        "y = np.array([[5,6],[7,8]], dtype=np.float64)\n",
        "\n",
        "# Elementwise sum; both produce the array\n",
        "print(x + y)\n",
        "print(np.add(x, y))"
      ]
    },
    {
      "cell_type": "code",
      "execution_count": null,
      "metadata": {
        "colab": {
          "base_uri": "https://localhost:8080/"
        },
        "id": "1fZtIAMxL9in",
        "outputId": "77ae0843-44fa-41a1-d1f0-a929681226a2"
      },
      "outputs": [
        {
          "output_type": "stream",
          "name": "stdout",
          "text": [
            "[[-4. -4.]\n",
            " [-4. -4.]]\n",
            "[[-4. -4.]\n",
            " [-4. -4.]]\n"
          ]
        }
      ],
      "source": [
        "# Elementwise difference; both produce the array\n",
        "print(x - y)\n",
        "print(np.subtract(x, y))"
      ]
    },
    {
      "cell_type": "code",
      "execution_count": null,
      "metadata": {
        "colab": {
          "base_uri": "https://localhost:8080/"
        },
        "id": "nil4AScML9io",
        "outputId": "5d4e3a2c-b908-4469-d8f7-ef0d69c2232b"
      },
      "outputs": [
        {
          "output_type": "stream",
          "name": "stdout",
          "text": [
            "[[ 5. 12.]\n",
            " [21. 32.]]\n",
            "[[ 5. 12.]\n",
            " [21. 32.]]\n"
          ]
        }
      ],
      "source": [
        "# Elementwise product; both produce the array\n",
        "print(x * y)\n",
        "print(np.multiply(x, y))"
      ]
    },
    {
      "cell_type": "code",
      "execution_count": null,
      "metadata": {
        "colab": {
          "base_uri": "https://localhost:8080/"
        },
        "id": "0JoA4lH6L9ip",
        "outputId": "eb1ce11b-7754-42d1-e8af-e64ccdaaaf30"
      },
      "outputs": [
        {
          "output_type": "stream",
          "name": "stdout",
          "text": [
            "[[0.2        0.33333333]\n",
            " [0.42857143 0.5       ]]\n",
            "[[0.2        0.33333333]\n",
            " [0.42857143 0.5       ]]\n"
          ]
        }
      ],
      "source": [
        "# Elementwise division; both produce the array\n",
        "# [[ 0.2         0.33333333]\n",
        "#  [ 0.42857143  0.5       ]]\n",
        "print(x / y)\n",
        "print(np.divide(x, y))"
      ]
    },
    {
      "cell_type": "code",
      "execution_count": null,
      "metadata": {
        "colab": {
          "base_uri": "https://localhost:8080/"
        },
        "id": "g0iZuA6bL9ir",
        "outputId": "82364b96-0491-487d-e06c-86110672b1d4"
      },
      "outputs": [
        {
          "output_type": "stream",
          "name": "stdout",
          "text": [
            "[[1.         1.41421356]\n",
            " [1.73205081 2.        ]]\n"
          ]
        }
      ],
      "source": [
        "# Elementwise square root; produces the array\n",
        "# [[ 1.          1.41421356]\n",
        "#  [ 1.73205081  2.        ]]\n",
        "print(np.sqrt(x))"
      ]
    },
    {
      "cell_type": "markdown",
      "metadata": {
        "id": "a5d_uujuL9it"
      },
      "source": [
        "Note that unlike MATLAB, `*` is elementwise multiplication, not matrix multiplication. We instead use the dot function to compute inner products of vectors, to multiply a vector by a matrix, and to multiply matrices. dot is available both as a function in the numpy module and as an instance method of array objects:"
      ]
    },
    {
      "cell_type": "code",
      "execution_count": null,
      "metadata": {
        "colab": {
          "base_uri": "https://localhost:8080/"
        },
        "id": "I3FnmoSeL9iu",
        "outputId": "ee83755f-75f5-427c-8447-4d0b5e9f01a0"
      },
      "outputs": [
        {
          "output_type": "stream",
          "name": "stdout",
          "text": [
            "219\n",
            "219\n"
          ]
        }
      ],
      "source": [
        "x = np.array([[1,2],[3,4]])\n",
        "y = np.array([[5,6],[7,8]])\n",
        "\n",
        "v = np.array([9,10])\n",
        "w = np.array([11, 12])\n",
        "\n",
        "# Inner product of vectors; both produce 219\n",
        "print(v.dot(w))\n",
        "print(np.dot(v, w))"
      ]
    },
    {
      "cell_type": "markdown",
      "metadata": {
        "id": "vmxPbrHASVeA"
      },
      "source": [
        "You can also use the `@` operator which is equivalent to numpy's `dot` operator."
      ]
    },
    {
      "cell_type": "code",
      "execution_count": null,
      "metadata": {
        "colab": {
          "base_uri": "https://localhost:8080/"
        },
        "id": "vyrWA-mXSdtt",
        "outputId": "beef8d3f-ec0a-43d8-a967-b8f724ce0df6"
      },
      "outputs": [
        {
          "output_type": "stream",
          "name": "stdout",
          "text": [
            "219\n"
          ]
        }
      ],
      "source": [
        "print(v @ w)"
      ]
    },
    {
      "cell_type": "code",
      "execution_count": null,
      "metadata": {
        "colab": {
          "base_uri": "https://localhost:8080/"
        },
        "id": "zvUODeTxL9iw",
        "outputId": "c41820ce-574c-4207-97df-63e424ad87b8"
      },
      "outputs": [
        {
          "output_type": "stream",
          "name": "stdout",
          "text": [
            "[29 67]\n",
            "[29 67]\n",
            "[29 67]\n"
          ]
        }
      ],
      "source": [
        "# Matrix / vector product; both produce the rank 1 array [29 67]\n",
        "print(x.dot(v))\n",
        "print(np.dot(x, v))\n",
        "print(x @ v)"
      ]
    },
    {
      "cell_type": "code",
      "execution_count": null,
      "metadata": {
        "colab": {
          "base_uri": "https://localhost:8080/"
        },
        "id": "3V_3NzNEL9iy",
        "outputId": "f72f767e-c331-4640-d55d-1340fc02cc35"
      },
      "outputs": [
        {
          "output_type": "stream",
          "name": "stdout",
          "text": [
            "[[19 22]\n",
            " [43 50]]\n",
            "[[19 22]\n",
            " [43 50]]\n",
            "[[19 22]\n",
            " [43 50]]\n"
          ]
        }
      ],
      "source": [
        "# Matrix / matrix product; both produce the rank 2 array\n",
        "# [[19 22]\n",
        "#  [43 50]]\n",
        "print(x.dot(y))\n",
        "print(np.dot(x, y))\n",
        "print(x @ y)"
      ]
    },
    {
      "cell_type": "markdown",
      "metadata": {
        "id": "FbE-1If_L9i0"
      },
      "source": [
        "Numpy provides many useful functions for performing computations on arrays; one of the most useful is `sum`:"
      ]
    },
    {
      "cell_type": "code",
      "execution_count": null,
      "metadata": {
        "colab": {
          "base_uri": "https://localhost:8080/"
        },
        "id": "DZUdZvPrL9i0",
        "outputId": "b5d9489c-151f-45f6-aad6-a74d10e6de38"
      },
      "outputs": [
        {
          "output_type": "stream",
          "name": "stdout",
          "text": [
            "10\n",
            "[4 6]\n",
            "[3 7]\n"
          ]
        }
      ],
      "source": [
        "x = np.array(\n",
        "    [\n",
        "        [1,2],\n",
        "        [3,4]\n",
        "        ])\n",
        "\n",
        "print(np.sum(x))  # Compute sum of all elements; prints \"10\"\n",
        "print(np.sum(x, axis=0))  # Compute sum of each column; prints \"[4 6]\"\n",
        "print(np.sum(x, axis=1))  # Compute sum of each row; prints \"[3 7]\""
      ]
    },
    {
      "cell_type": "markdown",
      "metadata": {
        "id": "ahdVW4iUL9i3"
      },
      "source": [
        "You can find the full list of mathematical functions provided by numpy in the [documentation](http://docs.scipy.org/doc/numpy/reference/routines.math.html).\n",
        "\n",
        "Apart from computing mathematical functions using arrays, we frequently need to reshape or otherwise manipulate data in arrays. The simplest example of this type of operation is transposing a matrix; to transpose a matrix, simply use the T attribute of an array object:"
      ]
    },
    {
      "cell_type": "code",
      "execution_count": null,
      "metadata": {
        "colab": {
          "base_uri": "https://localhost:8080/"
        },
        "id": "63Yl1f3oL9i3",
        "outputId": "2ebd5cea-475b-463b-a30a-7083d8d41de7"
      },
      "outputs": [
        {
          "output_type": "stream",
          "name": "stdout",
          "text": [
            "[[1 2]\n",
            " [3 4]]\n",
            "transpose\n",
            " [[1 3]\n",
            " [2 4]]\n"
          ]
        }
      ],
      "source": [
        "print(x)\n",
        "print(\"transpose\\n\", x.T)"
      ]
    },
    {
      "cell_type": "code",
      "execution_count": null,
      "metadata": {
        "colab": {
          "base_uri": "https://localhost:8080/"
        },
        "id": "mkk03eNIL9i4",
        "outputId": "eb444813-1810-4963-acf3-1cff7b97dc0e"
      },
      "outputs": [
        {
          "output_type": "stream",
          "name": "stdout",
          "text": [
            "[[1 2 3]]\n",
            "transpose\n",
            " [[1]\n",
            " [2]\n",
            " [3]]\n"
          ]
        }
      ],
      "source": [
        "v = np.array([[1,2,3]])\n",
        "print(v )\n",
        "print(\"transpose\\n\", v.T)"
      ]
    },
    {
      "cell_type": "markdown",
      "metadata": {
        "id": "REfLrUTcL9i7"
      },
      "source": [
        "###Broadcasting"
      ]
    },
    {
      "cell_type": "markdown",
      "metadata": {
        "id": "EygGAMWqL9i7"
      },
      "source": [
        "Broadcasting is a powerful mechanism that allows numpy to work with arrays of different shapes when performing arithmetic operations. Frequently we have a smaller array and a larger array, and we want to use the smaller array multiple times to perform some operation on the larger array.\n",
        "\n",
        "For example, suppose that we want to add a constant vector to each row of a matrix. We could do it like this:"
      ]
    },
    {
      "cell_type": "code",
      "execution_count": null,
      "metadata": {
        "colab": {
          "base_uri": "https://localhost:8080/"
        },
        "id": "WEEvkV1ZL9i7",
        "outputId": "7a26ce1b-defa-48e6-db6d-1d87f4214993"
      },
      "outputs": [
        {
          "output_type": "stream",
          "name": "stdout",
          "text": [
            "[[2 2 4]\n",
            " [0 0 0]\n",
            " [0 0 0]\n",
            " [0 0 0]]\n",
            "[[2 2 4]\n",
            " [5 5 7]\n",
            " [0 0 0]\n",
            " [0 0 0]]\n",
            "[[ 2  2  4]\n",
            " [ 5  5  7]\n",
            " [ 8  8 10]\n",
            " [ 0  0  0]]\n",
            "[[ 2  2  4]\n",
            " [ 5  5  7]\n",
            " [ 8  8 10]\n",
            " [11 11 13]]\n",
            "[[ 2  2  4]\n",
            " [ 5  5  7]\n",
            " [ 8  8 10]\n",
            " [11 11 13]]\n"
          ]
        }
      ],
      "source": [
        "# We will add the vector v to each row of the matrix x,\n",
        "# storing the result in the matrix y\n",
        "x = np.array([[1,2,3], [4,5,6], [7,8,9], [10, 11, 12]])\n",
        "v = np.array([1, 0, 1])\n",
        "y = np.empty_like(x)   # Create an empty matrix with the same shape as x\n",
        "\n",
        "# Add the vector v to each row of the matrix x with an explicit loop\n",
        "for i in range(4):\n",
        "    y[i, :] = x[i, :] + v\n",
        "    print(y)\n",
        "print(y)"
      ]
    },
    {
      "cell_type": "markdown",
      "metadata": {
        "id": "2OlXXupEL9i-"
      },
      "source": [
        "This works; however when the matrix `x` is very large, computing an explicit loop in Python could be slow. Note that adding the vector v to each row of the matrix `x` is equivalent to forming a matrix `vv` by stacking multiple copies of `v` vertically, then performing elementwise summation of `x` and `vv`. We could implement this approach like this:"
      ]
    },
    {
      "cell_type": "code",
      "execution_count": null,
      "metadata": {
        "colab": {
          "base_uri": "https://localhost:8080/"
        },
        "id": "vS7UwAQQL9i-",
        "outputId": "78f70906-6562-4497-9633-0bf69b15912b"
      },
      "outputs": [
        {
          "output_type": "stream",
          "name": "stdout",
          "text": [
            "[[1 0 1]\n",
            " [1 0 1]\n",
            " [1 0 1]\n",
            " [1 0 1]]\n"
          ]
        }
      ],
      "source": [
        "vv = np.tile(v, (4, 1))  # Stack 4 copies of v on top of each other\n",
        "print(vv)                # Prints \"[[1 0 1]\n",
        "                         #          [1 0 1]\n",
        "                         #          [1 0 1]\n",
        "                         #          [1 0 1]]\""
      ]
    },
    {
      "cell_type": "code",
      "execution_count": null,
      "metadata": {
        "colab": {
          "base_uri": "https://localhost:8080/"
        },
        "id": "N0hJphSIL9jA",
        "outputId": "355015ba-8fec-4905-e62a-2eeab347e994"
      },
      "outputs": [
        {
          "output_type": "stream",
          "name": "stdout",
          "text": [
            "[[ 2  2  4]\n",
            " [ 5  5  7]\n",
            " [ 8  8 10]\n",
            " [11 11 13]]\n"
          ]
        }
      ],
      "source": [
        "y = x + vv  # Add x and vv elementwise\n",
        "print(y)"
      ]
    },
    {
      "cell_type": "markdown",
      "metadata": {
        "id": "zHos6RJnL9jB"
      },
      "source": [
        "Numpy broadcasting allows us to perform this computation without actually creating multiple copies of v. Consider this version, using broadcasting:"
      ]
    },
    {
      "cell_type": "code",
      "execution_count": null,
      "metadata": {
        "colab": {
          "base_uri": "https://localhost:8080/"
        },
        "id": "vnYFb-gYL9jC",
        "outputId": "fe66a02e-1056-45ac-d887-f9bd9bce9604"
      },
      "outputs": [
        {
          "output_type": "stream",
          "name": "stdout",
          "text": [
            "[[ 2  2  4]\n",
            " [ 5  5  7]\n",
            " [ 8  8 10]\n",
            " [11 11 13]]\n"
          ]
        }
      ],
      "source": [
        "import numpy as np\n",
        "\n",
        "# We will add the vector v to each row of the matrix x,\n",
        "# storing the result in the matrix y\n",
        "x = np.array([[1,2,3], [4,5,6], [7,8,9], [10, 11, 12]])\n",
        "v = np.array([1, 0, 1])\n",
        "y = x + v  # Add v to each row of x using broadcasting\n",
        "print(y)"
      ]
    },
    {
      "cell_type": "markdown",
      "metadata": {
        "id": "08YyIURKL9jH"
      },
      "source": [
        "The line `y = x + v` works even though `x` has shape `(4, 3)` and `v` has shape `(3,)` due to broadcasting; this line works as if v actually had shape `(4, 3)`, where each row was a copy of `v`, and the sum was performed elementwise.\n",
        "\n",
        "Broadcasting two arrays together follows these rules:\n",
        "\n",
        "1. If the arrays do not have the same rank, prepend the shape of the lower rank array with 1s until both shapes have the same length.\n",
        "2. The two arrays are said to be compatible in a dimension if they have the same size in the dimension, or if one of the arrays has size 1 in that dimension.\n",
        "3. The arrays can be broadcast together if they are compatible in all dimensions.\n",
        "4. After broadcasting, each array behaves as if it had shape equal to the elementwise maximum of shapes of the two input arrays.\n",
        "5. In any dimension where one array had size 1 and the other array had size greater than 1, the first array behaves as if it were copied along that dimension\n",
        "\n",
        "If this explanation does not make sense, try reading the explanation from the [documentation](http://docs.scipy.org/doc/numpy/user/basics.broadcasting.html) or this [explanation](http://wiki.scipy.org/EricsBroadcastingDoc).\n",
        "\n",
        "Functions that support broadcasting are known as universal functions. You can find the list of all universal functions in the [documentation](http://docs.scipy.org/doc/numpy/reference/ufuncs.html#available-ufuncs).\n",
        "\n",
        "Here are some applications of broadcasting:"
      ]
    },
    {
      "cell_type": "code",
      "execution_count": null,
      "metadata": {
        "colab": {
          "base_uri": "https://localhost:8080/"
        },
        "id": "EmQnwoM9L9jH",
        "outputId": "b7ace5bb-a98c-4ea5-9d14-672f903e19df"
      },
      "outputs": [
        {
          "output_type": "stream",
          "name": "stdout",
          "text": [
            "[[1]\n",
            " [2]\n",
            " [3]]\n",
            "[[ 4  5]\n",
            " [ 8 10]\n",
            " [12 15]]\n"
          ]
        }
      ],
      "source": [
        "# Compute outer product of vectors\n",
        "v = np.array([1,2,3])  # v has shape (3,)\n",
        "w = np.array([4,5])    # w has shape (2,)\n",
        "# To compute an outer product, we first reshape v to be a column\n",
        "# vector of shape (3, 1); we can then broadcast it against w to yield\n",
        "# an output of shape (3, 2), which is the outer product of v and w:\n",
        "print(np.reshape(v, (3, 1)))\n",
        "print(np.reshape(v, (3, 1)) * w)"
      ]
    },
    {
      "cell_type": "code",
      "execution_count": null,
      "metadata": {
        "colab": {
          "base_uri": "https://localhost:8080/"
        },
        "id": "PgotmpcnL9jK",
        "outputId": "8f1eb1c5-3664-4921-c247-944bf59d285a"
      },
      "outputs": [
        {
          "output_type": "stream",
          "name": "stdout",
          "text": [
            "[[2 4 6]\n",
            " [5 7 9]]\n"
          ]
        }
      ],
      "source": [
        "# Add a vector to each row of a matrix\n",
        "x = np.array([[1,2,3], [4,5,6]])\n",
        "# x has shape (2, 3) and v has shape (3,) so they broadcast to (2, 3),\n",
        "# giving the following matrix:\n",
        "\n",
        "print(x + v)"
      ]
    },
    {
      "cell_type": "code",
      "execution_count": null,
      "metadata": {
        "colab": {
          "base_uri": "https://localhost:8080/"
        },
        "id": "T5hKS1QaL9jK",
        "outputId": "774de76a-2787-40d7-ec06-c760970f6d6d"
      },
      "outputs": [
        {
          "output_type": "stream",
          "name": "stdout",
          "text": [
            "[[ 5  6  7]\n",
            " [ 9 10 11]]\n"
          ]
        }
      ],
      "source": [
        "# Add a vector to each column of a matrix\n",
        "# x has shape (2, 3) and w has shape (2,).\n",
        "# If we transpose x then it has shape (3, 2) and can be broadcast\n",
        "# against w to yield a result of shape (3, 2); transposing this result\n",
        "# yields the final result of shape (2, 3) which is the matrix x with\n",
        "# the vector w added to each column. Gives the following matrix:\n",
        "\n",
        "print((x.T + w).T)"
      ]
    },
    {
      "cell_type": "code",
      "execution_count": null,
      "metadata": {
        "colab": {
          "base_uri": "https://localhost:8080/"
        },
        "id": "JDUrZUl6L9jN",
        "outputId": "3c97f428-91e4-49c1-f30d-69d73334d94e"
      },
      "outputs": [
        {
          "output_type": "stream",
          "name": "stdout",
          "text": [
            "[[ 5  6  7]\n",
            " [ 9 10 11]]\n"
          ]
        }
      ],
      "source": [
        "# Another solution is to reshape w to be a row vector of shape (2, 1);\n",
        "# we can then broadcast it directly against x to produce the same\n",
        "# output.\n",
        "print(x + np.reshape(w, (2, 1)))"
      ]
    },
    {
      "cell_type": "code",
      "execution_count": null,
      "metadata": {
        "colab": {
          "base_uri": "https://localhost:8080/"
        },
        "id": "VzrEo4KGL9jP",
        "outputId": "21cdfa2a-af31-4a6c-8e4c-75998150efee"
      },
      "outputs": [
        {
          "output_type": "stream",
          "name": "stdout",
          "text": [
            "[[ 2  4  6]\n",
            " [ 8 10 12]]\n"
          ]
        }
      ],
      "source": [
        "# Multiply a matrix by a constant:\n",
        "# x has shape (2, 3). Numpy treats scalars as arrays of shape ();\n",
        "# these can be broadcast together to shape (2, 3), producing the\n",
        "# following array:\n",
        "print(x * 2)"
      ]
    },
    {
      "cell_type": "markdown",
      "metadata": {
        "id": "89e2FXxFL9jQ"
      },
      "source": [
        "Broadcasting typically makes your code more concise and faster, so you should strive to use it where possible."
      ]
    },
    {
      "cell_type": "markdown",
      "metadata": {
        "id": "iF3ZtwVNL9jQ"
      },
      "source": [
        "This brief overview has touched on many of the important things that you need to know about numpy, but is far from complete. Check out the [numpy reference](http://docs.scipy.org/doc/numpy/reference/) to find out much more about numpy."
      ]
    },
    {
      "cell_type": "markdown",
      "metadata": {
        "id": "tEINf4bEL9jR"
      },
      "source": [
        "##Matplotlib"
      ]
    },
    {
      "cell_type": "markdown",
      "metadata": {
        "id": "0hgVWLaXL9jR"
      },
      "source": [
        "Matplotlib is a plotting library. In this section give a brief introduction to the `matplotlib.pyplot` module, which provides a plotting system similar to that of MATLAB."
      ]
    },
    {
      "cell_type": "code",
      "execution_count": null,
      "metadata": {
        "id": "cmh_7c6KL9jR"
      },
      "outputs": [],
      "source": [
        "import matplotlib.pyplot as plt"
      ]
    },
    {
      "cell_type": "markdown",
      "metadata": {
        "id": "jOsaA5hGL9jS"
      },
      "source": [
        "By running this special iPython command, we will be displaying plots inline:"
      ]
    },
    {
      "cell_type": "code",
      "execution_count": null,
      "metadata": {
        "id": "ijpsmwGnL9jT"
      },
      "outputs": [],
      "source": [
        "%matplotlib inline"
      ]
    },
    {
      "cell_type": "markdown",
      "metadata": {
        "id": "U5Z_oMoLL9jV"
      },
      "source": [
        "###Plotting"
      ]
    },
    {
      "cell_type": "markdown",
      "metadata": {
        "id": "6QyFJ7dhL9jV"
      },
      "source": [
        "The most important function in `matplotlib` is plot, which allows you to plot 2D data. Here is a simple example:"
      ]
    },
    {
      "cell_type": "code",
      "execution_count": null,
      "metadata": {
        "colab": {
          "base_uri": "https://localhost:8080/",
          "height": 282
        },
        "id": "pua52BGeL9jW",
        "outputId": "0b7f73c5-8450-48ce-8540-75ed2b8da477"
      },
      "outputs": [
        {
          "output_type": "execute_result",
          "data": {
            "text/plain": [
              "[<matplotlib.lines.Line2D at 0x7f5896d90820>]"
            ]
          },
          "metadata": {},
          "execution_count": 87
        },
        {
          "output_type": "display_data",
          "data": {
            "text/plain": [
              "<Figure size 432x288 with 1 Axes>"
            ],
            "image/png": "[encoded data removed]"
          },
          "metadata": {
            "needs_background": "light"
          }
        }
      ],
      "source": [
        "# Compute the x and y coordinates for points on a sine curve\n",
        "x = np.arange(0, 3 * np.pi, 0.1)\n",
        "y = np.sin(x)\n",
        "\n",
        "# Plot the points using matplotlib\n",
        "plt.plot(x, y)"
      ]
    },
    {
      "cell_type": "markdown",
      "metadata": {
        "id": "9W2VAcLiL9jX"
      },
      "source": [
        "With just a little bit of extra work we can easily plot multiple lines at once, and add a title, legend, and axis labels:"
      ]
    },
    {
      "cell_type": "code",
      "execution_count": null,
      "metadata": {
        "colab": {
          "base_uri": "https://localhost:8080/",
          "height": 312
        },
        "id": "TfCQHJ5AL9jY",
        "outputId": "f86a2f67-48e2-4d34-8818-fefab13aaec5"
      },
      "outputs": [
        {
          "output_type": "execute_result",
          "data": {
            "text/plain": [
              "<matplotlib.legend.Legend at 0x7f5894cd4820>"
            ]
          },
          "metadata": {},
          "execution_count": 88
        },
        {
          "output_type": "display_data",
          "data": {
            "text/plain": [
              "<Figure size 432x288 with 1 Axes>"
            ],
            "image/png": "[encoded data removed]"
          },
          "metadata": {
            "needs_background": "light"
          }
        }
      ],
      "source": [
        "y_sin = np.sin(x)\n",
        "y_cos = np.cos(x)\n",
        "\n",
        "# Plot the points using matplotlib\n",
        "plt.plot(x, y_sin)\n",
        "plt.plot(x, y_cos)\n",
        "plt.xlabel('x axis label')\n",
        "plt.ylabel('y axis label')\n",
        "plt.title('Sine and Cosine')\n",
        "plt.legend(['Sine', 'Cosine'])"
      ]
    },
    {
      "cell_type": "markdown",
      "metadata": {
        "id": "R5IeAY03L9ja"
      },
      "source": [
        "###Subplots"
      ]
    },
    {
      "cell_type": "markdown",
      "metadata": {
        "id": "CfUzwJg0L9ja"
      },
      "source": [
        "You can plot different things in the same figure using the subplot function. Here is an example:"
      ]
    },
    {
      "cell_type": "code",
      "execution_count": null,
      "metadata": {
        "colab": {
          "base_uri": "https://localhost:8080/",
          "height": 452
        },
        "id": "dM23yGH9L9ja",
        "outputId": "048cad2b-ec62-42ed-ee91-af5ea2a5d83e"
      },
      "outputs": [
        {
          "output_type": "display_data",
          "data": {
            "text/plain": [
              "<Figure size 640x480 with 2 Axes>"
            ],
            "image/png": "[encoded data removed]"
          },
          "metadata": {}
        }
      ],
      "source": [
        "# Compute the x and y coordinates for points on sine and cosine curves\n",
        "x = np.arange(0, 3 * np.pi, 0.1)\n",
        "y_sin = np.sin(x)\n",
        "y_cos = np.cos(x)\n",
        "\n",
        "# Set up a subplot grid that has height 2 and width 1,\n",
        "# and set the first such subplot as active.\n",
        "#2 rows 1 column and graph 1\n",
        "plt.subplot(2, 1, 1)\n",
        "\n",
        "# Make the first plot\n",
        "plt.plot(x, y_sin)\n",
        "plt.title('Sine')\n",
        "\n",
        "# Set the second subplot as active, and make the second plot.\n",
        "plt.subplot(2, 1, 2)\n",
        "plt.plot(x, y_cos)\n",
        "plt.title('Cosine')\n",
        "\n",
        "# Show the figure.\n",
        "plt.show()"
      ]
    },
    {
      "cell_type": "markdown",
      "metadata": {
        "id": "gLtsST5SL9jc"
      },
      "source": [
        "You can read much more about the `subplot` function in the [documentation](http://matplotlib.org/api/pyplot_api.html#matplotlib.pyplot.subplot)."
      ]
    },
    {
      "cell_type": "markdown",
      "source": [
        "# PART II\n",
        "## Cubic Spline Interpolation\n",
        "### You are required to submit this part\n",
        "\n",
        "#### Plotting the cubic spline\n",
        "#### Please complete the missing code\n",
        "\n"
      ],
      "metadata": {
        "id": "rtQ-hgWUVAJ6"
      }
    },
    {
      "cell_type": "code",
      "source": [],
      "metadata": {
        "id": "Wymx5IMeV4kR"
      },
      "execution_count": null,
      "outputs": []
    },
    {
      "cell_type": "markdown",
      "source": [
        "![cubic spline.PNG](data:image/png;base64,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)"
      ],
      "metadata": {
        "id": "hNTdGl3dXcTZ"
      }
    },
    {
      "cell_type": "code",
      "source": [
        "from scipy.interpolate import CubicSpline\n",
        "import numpy as np\n",
        "import matplotlib.pyplot as plt\n",
        "\n",
        "plt.style.use('seaborn-poster')"
      ],
      "metadata": {
        "id": "hSUFHfb_Xpig",
        "colab": {
          "base_uri": "https://localhost:8080/"
        },
        "outputId": "58390c8c-0360-414e-c5b1-a66a9ce0c016"
      },
      "execution_count": 3,
      "outputs": [
        {
          "output_type": "stream",
          "name": "stderr",
          "text": [
            "<ipython-input-3-bcd93b4b53a4>:5: MatplotlibDeprecationWarning: The seaborn styles shipped by Matplotlib are deprecated since 3.6, as they no longer correspond to the styles shipped by seaborn. However, they will remain available as 'seaborn-v0_8-<style>'. Alternatively, directly use the seaborn API instead.\n",
            "  plt.style.use('seaborn-poster')\n"
          ]
        }
      ]
    },
    {
      "cell_type": "code",
      "source": [
        "x = [0, 1, 2]\n",
        "y = [1, 3, 2]\n",
        "\n",
        "# use bc_type = 'natural' adds the constraints as we described above\n",
        "f = CubicSpline(x, y)\n",
        "x_new = np.linspace(0, 2, 100)\n",
        "y_new = f(x_new)"
      ],
      "metadata": {
        "id": "N6FRmxo1XyMA"
      },
      "execution_count": 4,
      "outputs": []
    },
    {
      "cell_type": "code",
      "source": [
        "plt.figure(figsize = (10,8))\n",
        "plt.plot(x_new, y_new, 'b')\n",
        "plt.plot(x, y, 'ro')\n",
        "plt.title('Cubic Spline Interpolation')\n",
        "plt.xlabel('x')\n",
        "plt.ylabel('y')\n",
        "plt.show()"
      ],
      "metadata": {
        "id": "cJuZ8SZKYAcZ",
        "colab": {
          "base_uri": "https://localhost:8080/",
          "height": 751
        },
        "outputId": "95dcca0a-5bd3-40cf-d981-d067f0678bc0"
      },
      "execution_count": 5,
      "outputs": [
        {
          "output_type": "display_data",
          "data": {
            "text/plain": [
              "<Figure size 1000x800 with 1 Axes>"
            ],
            "image/png": "[encoded data removed]"
          },
          "metadata": {}
        }
      ]
    },
    {
      "cell_type": "code",
      "source": [],
      "metadata": {
        "id": "yQMWJBECmaZo"
      },
      "execution_count": null,
      "outputs": []
    }
  ],
  "metadata": {
    "colab": {
      "provenance": []
    },
    "kernelspec": {
      "display_name": "Python 3",
      "language": "python",
      "name": "python3"
    },
    "language_info": {
      "codemirror_mode": {
        "name": "ipython",
        "version": 3
      },
      "file_extension": ".py",
      "mimetype": "text/x-python",
      "name": "python",
      "nbconvert_exporter": "python",
      "pygments_lexer": "ipython3",
      "version": "3.7.6"
    }
  },
  "nbformat": 4,
  "nbformat_minor": 0
}