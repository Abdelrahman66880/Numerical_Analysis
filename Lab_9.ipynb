{
  "nbformat": 4,
  "nbformat_minor": 0,
  "metadata": {
    "colab": {
      "provenance": []
    },
    "kernelspec": {
      "name": "python3",
      "display_name": "Python 3"
    },
    "language_info": {
      "name": "python"
    }
  },
  "cells": [
    {
      "cell_type": "markdown",
      "metadata": {
        "deletable": false,
        "editable": false,
        "nbgrader": {
          "cell_type": "markdown",
          "checksum": "a34b810972fc06c80ac9d379a9f33ca4",
          "grade": false,
          "grade_id": "cell-1fc84fa265289359",
          "locked": true,
          "schema_version": 3,
          "solution": false,
          "task": false
        },
        "id": "split-mercy"
      },
      "source": [
        "# CSE213 - Numerical Analysis"
      ]
    },
    {
      "cell_type": "markdown",
      "source": [
        "# Lab 9 - Numerical Methods for Ordinary Differential Equations"
      ],
      "metadata": {
        "id": "3eL2ZgKdAe_u"
      }
    },
    {
      "cell_type": "markdown",
      "source": [
        "## Runge-Kutta (RK) Methods"
      ],
      "metadata": {
        "id": "HBSqQwYA2ZrY"
      }
    },
    {
      "cell_type": "code",
      "source": [
        "\"\"\"\n",
        "name : Abdelrhaman Mohammed Fathi\n",
        "Id: 120220215       CSE section 3 group 1\n",
        "\"\"\""
      ],
      "metadata": {
        "id": "IUi1RDdJ2U8k",
        "outputId": "cf19b07b-1cff-422c-dcc1-cef9917b9586",
        "colab": {
          "base_uri": "https://localhost:8080/",
          "height": 36
        }
      },
      "execution_count": 14,
      "outputs": [
        {
          "output_type": "execute_result",
          "data": {
            "text/plain": [
              "'\\nname : Abdelrhaman Mohammed Fathi\\nId: 120220215\\n'"
            ],
            "application/vnd.google.colaboratory.intrinsic+json": {
              "type": "string"
            }
          },
          "metadata": {},
          "execution_count": 14
        }
      ]
    },
    {
      "cell_type": "markdown",
      "source": [
        "### Mid-point Method"
      ],
      "metadata": {
        "id": "z8iy75zJ6DA9"
      }
    },
    {
      "cell_type": "markdown",
      "source": [
        "The mid-point method is a numerical approach to solve Ordinary Differential Equations (ODEs) numerically. It is a second-order method that is more accurate than the Euler's method.\n",
        "\n",
        "Given an initial value problem of the form:\n",
        "\n",
        "\\begin{equation}\n",
        "\\frac{\\mathrm{d}y}{\\mathrm{d}x} = f(x,y),\\ y(x_0) = y_0\n",
        "\\end{equation}\n",
        "\n",
        "where $f(x,y)$ is the derivative function and $y(x_0) = y_0$ is the initial condition, the mid-point method approximates the solution $y(x)$ at each step $x_i$ as:\n",
        "\n",
        "\\begin{equation}\n",
        "y_{i+1} = y_i + hf\\left(x_i + \\frac{h}{2}, y_i + \\frac{h}{2}f(x_i, y_i)\\right)\n",
        "\\end{equation}\n",
        "\n",
        "where $h$ is the step size, which determines the length of each interval.\n",
        "\n",
        "The mid-point method uses the slope at the midpoint of each interval to calculate the next value of the solution. This makes it more accurate than the Euler's method, which uses the slope at the beginning of each interval.\n",
        "\n",
        "The error in each step of the mid-point method is proportional to $h^3$, which means that the method is more accurate than the Euler's method for small values of $h$."
      ],
      "metadata": {
        "id": "A9Ti8_XD3GSY"
      }
    },
    {
      "cell_type": "code",
      "source": [
        "import numpy as np\n",
        "from prettytable import PrettyTable\n",
        "\n",
        "f = lambda x, y: 2*x - y\n",
        "h = 0.1\n",
        "x = np.arange(0, 1 + h, h)\n",
        "y0 = -1\n",
        "\n",
        "y = np.zeros(len(x))\n",
        "y[0] = y0\n",
        "\n",
        "table = PrettyTable(['x', 'k1', 'k2', 'y', 'Exact', 'Error'])\n",
        "table.add_row([x[0], \"-\", \"-\", y[0], y[0], 0])\n",
        "\n",
        "for i in range(1, len(x)):\n",
        "    k1 =  f(x[i-1], y[i-1])\n",
        "    k2 = f(x[i-1] + h/2, y[i-1] + h/2*k1)\n",
        "    y[i] = y[i-1] + h*k2\n",
        "    exact = -2 + np.exp(-x[i]) + 2*x[i]\n",
        "    error = abs(exact - y[i])\n",
        "    table.add_row([f\"{x[i]:.2f}\", k1, k2, y[i], exact, np.format_float_scientific(error, 1)])\n",
        "\n",
        "print(table)"
      ],
      "metadata": {
        "colab": {
          "base_uri": "https://localhost:8080/"
        },
        "id": "BhzRRcNOP8Kk",
        "outputId": "b9b22c9c-24b8-42bf-951d-d564788ebb9c"
      },
      "execution_count": 9,
      "outputs": [
        {
          "output_type": "stream",
          "name": "stdout",
          "text": [
            "+------+--------------------+--------------------+----------------------+----------------------+---------+\n",
            "|  x   |         k1         |         k2         |          y           |        Exact         |  Error  |\n",
            "+------+--------------------+--------------------+----------------------+----------------------+---------+\n",
            "| 0.0  |         -          |         -          |         -1.0         |         -1.0         |    0    |\n",
            "| 0.10 |        1.0         |        1.05        |        -0.895        | -0.8951625819640405  | 1.6e-04 |\n",
            "| 0.20 |       1.095        |      1.14025       |      -0.780975       | -0.7812692469220183  | 2.9e-04 |\n",
            "| 0.30 |      1.180975      |     1.22192625     | -0.6587823749999999  | -0.6591817793182821  |  4.e-04 |\n",
            "| 0.40 |    1.258782375     |   1.29584325625    | -0.5291980493749999  | -0.5296799539643606  | 4.8e-04 |\n",
            "| 0.50 |   1.329198049375   |  1.36273814690625  | -0.3929242346843749  | -0.3934693402873666  | 5.5e-04 |\n",
            "| 0.60 | 1.3929242346843749 | 1.4232780229501563 | -0.25059643238935925 | -0.2511883639059733  | 5.9e-04 |\n",
            "| 0.70 | 1.4505964323893594 | 1.4780666107698917 | -0.10278977131237008 | -0.10341469620859045 | 6.2e-04 |\n",
            "| 0.80 | 1.5027897713123701 | 1.5276502827467517 | 0.04997525696230512  | 0.04932896411722165  | 6.5e-04 |\n",
            "| 0.90 | 1.550024743037695  | 1.5725235058858102 | 0.20722760755088615  | 0.20656965974059927  | 6.6e-04 |\n",
            "| 1.00 | 1.592772392449114  | 1.6131337728266582 | 0.36854098483355197  | 0.36787944117144233  | 6.6e-04 |\n",
            "+------+--------------------+--------------------+----------------------+----------------------+---------+\n"
          ]
        }
      ]
    },
    {
      "cell_type": "markdown",
      "source": [
        "### Higher order RK Methods"
      ],
      "metadata": {
        "id": "gYJusHjQ6GhP"
      }
    },
    {
      "cell_type": "markdown",
      "source": [
        "The Runge-Kutta methods are a family of numerical approaches to solve Ordinary Differential Equations (ODEs) numerically. They are higher-order methods that are more accurate than the Euler's and mid-point methods.\n",
        "\n",
        "Given an initial value problem of the form:\n",
        "\n",
        "\\begin{equation}\n",
        "\\frac{\\mathrm{d}y}{\\mathrm{d}x} = f(x,y),\\ y(x_0) = y_0\n",
        "\\end{equation}\n",
        "\n",
        "where $f(x,y)$ is the derivative function and $y(x_0) = y_0$ is the initial condition, the general $s$-stage Runge-Kutta method approximates the solution $y(x)$ at each step $x_i$ as:\n",
        "\n",
        "\\begin{align}\n",
        "k_1 &= hf(x_i, y_i) \\\\\n",
        "k_2 &= hf(x_i + \\alpha_2 h, y_i + \\beta_{21}k_1) \\\\\n",
        "k_3 &= hf(x_i + \\alpha_3 h, y_i + \\beta_{31}k_1 + \\beta_{32}k_2) \\\\\n",
        "&\\vdots \\\\\n",
        "k_s &= hf(x_i + \\alpha_s h, y_i + \\beta_{s1}k_1 + \\beta_{s2}k_2 + \\dots + \\beta_{s,s-1}k_{s-1}) \\\\\n",
        "y_{i+1} &= y_i + \\omega_1 k_1 + \\omega_2 k_2 + \\dots + \\omega_s k_s\n",
        "\\end{align}\n",
        "\n",
        "where $h$ is the step size, $k_1$, $k_2$, $k_3$, and $k_s$ are intermediate slopes, and the coefficients $\\alpha_i$, $\\beta_{ij}$, and $\\omega_i$ are constants that depend on the specific method.\n",
        "\n",
        "The Runge-Kutta methods use a weighted average of these slopes to calculate the next value of the solution. The order of the method is determined by the number of stages $s$, and the error is of order $O(h^{s+1})$.\n",
        "\n",
        "Higher-order Runge-Kutta methods exist, but they are more complex and require more function evaluations. Lower-order Runge-Kutta methods also exist, but they are less accurate than the fourth-order method."
      ],
      "metadata": {
        "id": "wuQUo6i75pGp"
      }
    },
    {
      "cell_type": "markdown",
      "source": [
        "#### The Fourth Order Runge-Kutta (RK4)"
      ],
      "metadata": {
        "id": "r6kcxFCCO0tQ"
      }
    },
    {
      "cell_type": "markdown",
      "source": [
        "Given an initial value problem of the form:\n",
        "\n",
        "\\begin{equation}\n",
        "\\frac{\\mathrm{d}y}{\\mathrm{d}x} = f(x,y),\\ y(x_0) = y_0\n",
        "\\end{equation}\n",
        "\n",
        "where $f(x,y)$ is the derivative function and $y(x_0) = y_0$ is the initial condition, the fourth-order Runge-Kutta method approximates the solution $y(x)$ at each step $x_i$ as:\n",
        "\n",
        "\\begin{align}\n",
        "k_1 &= hf(x_i, y_i) \\\\\n",
        "k_2 &= hf(x_i + \\frac{h}{2}, y_i + \\frac{k_1}{2}) \\\\\n",
        "k_3 &= hf(x_i + \\frac{h}{2}, y_i + \\frac{k_2}{2}) \\\\\n",
        "k_4 &= hf(x_i + h, y_i + k_3) \\\\\n",
        "y_{i+1} &= y_i + \\frac{1}{6}(k_1 + 2k_2 + 2k_3 + k_4)\n",
        "\\end{align}\n",
        "\n",
        "where $h$ is the step size, and $k_1$, $k_2$, $k_3$, and $k_4$ are intermediate slopes.\n",
        "\n",
        "The Runge-Kutta methods use a weighted average of these slopes to calculate the next value of the solution. The fourth-order Runge-Kutta method is the most commonly used method and has an error of order $O(h^4)$."
      ],
      "metadata": {
        "id": "IUU0kma6PP65"
      }
    },
    {
      "cell_type": "markdown",
      "source": [
        "##### Exercise 1\n",
        "Complete the implementation of RK4 code below."
      ],
      "metadata": {
        "id": "IYY22X2ubXyv"
      }
    },
    {
      "cell_type": "code",
      "source": [
        "import numpy as np\n",
        "from prettytable import PrettyTable\n",
        "\"\"\"\n",
        "pseudo code:\n",
        "    k1 = h * f(x[i - 1], y[i - 1])\n",
        "    k2 = h * f(x[i - 1] + h / 2, y[i - 1] + k1 / 2)\n",
        "    k3 = h * f(x[i - 1] + h / 2, y[i - 1] + k2 / 2)\n",
        "    k4 = h * f(x[i - 1] + h, y[i - 1] + k3)\n",
        "\n",
        "\"\"\"\n",
        "\n",
        "f = lambda x, y: 2*x -y                       # Define a lambda function for y' = f(x, y) = 2*x - y\n",
        "h = 0.1                                       # Define the step size\n",
        "x = np.arange(0, 1 + h, h)                    # Create an array of x values from 0 to 1 with step h\n",
        "y0 = -1                                       # Set the initial value of y to -1\n",
        "\n",
        "y = np.zeros(len(x))                          # Create an array of zeros with the same length as x for y values\n",
        "y[0] = y0                                     # Set the first value of y to y0\n",
        "\n",
        "table = PrettyTable(['x', 'k1', 'k2', 'k3' ,'k4', 'y', 'Exact', 'Error'])\n",
        "table.add_row([x[0], \"-\", \"-\", \"-\", \"-\", y[0], y[0], 0])\n",
        "\n",
        "for i in range(1, len(x)):                    # Loop through the array of x values\n",
        "    k1 = h * f(x[i - 1], y[i - 1])\n",
        "    k2 = h * f(x[i - 1] + h / 2, y[i - 1] + k1 / 2)\n",
        "    k3 = h * f(x[i - 1] + h / 2, y[i - 1] + k2 / 2)\n",
        "    k4 = h * f(x[i - 1] + h, y[i - 1] + k3)\n",
        "\n",
        "    y[i] = y[i - 1] + (k1 + 2 * k2 + 2 * k3 + k4) / 6\n",
        "\n",
        "    exact = -2 + np.exp(-x[i]) + 2*x[i]       # Calculate the exact solution\n",
        "    error = abs(exact - y[i])                 # Calculate the error\n",
        "    table.add_row([f\"{x[i]:.2f}\", k1, k2, k3, k4, y[i], exact, np.format_float_scientific(error, 1)])\n",
        "\n",
        "print(table)"
      ],
      "metadata": {
        "colab": {
          "base_uri": "https://localhost:8080/"
        },
        "id": "bhoV8TrYOzjO",
        "outputId": "40f7e431-d425-4ace-8fdf-ad223763b759"
      },
      "execution_count": 15,
      "outputs": [
        {
          "output_type": "stream",
          "name": "stdout",
          "text": [
            "+------+---------------------+---------------------+---------------------+---------------------+----------------------+----------------------+---------+\n",
            "|  x   |          k1         |          k2         |          k3         |          k4         |          y           |        Exact         |  Error  |\n",
            "+------+---------------------+---------------------+---------------------+---------------------+----------------------+----------------------+---------+\n",
            "| 0.0  |          -          |          -          |          -          |          -          |         -1.0         |         -1.0         |    0    |\n",
            "| 0.10 |         0.1         | 0.10500000000000001 | 0.10475000000000001 | 0.10952500000000001 |      -0.8951625      | -0.8951625819640405  | 8.2e-08 |\n",
            "| 0.20 | 0.10951625000000001 | 0.11404043750000002 |    0.113814228125   | 0.11813482718750001 | -0.7812690985937499  | -0.7812692469220183  | 1.5e-07 |\n",
            "| 0.30 |  0.118126909859375  | 0.12222056436640626 | 0.12201588164105469 | 0.12592532169526954 | -0.6591815779988222  | -0.6591817793182821  | 2.0e-07 |\n",
            "| 0.40 | 0.12591815779988222 |  0.1296222499098881 | 0.12943704530438782 | 0.13297445326944343 | -0.5296797110825092  | -0.5296799539643606  | 2.4e-07 |\n",
            "| 0.50 | 0.13296797110825095 |  0.1363195725528384 | 0.13615199248060902 | 0.13935277186019002 | -0.3934690655766199  | -0.3934693402873666  | 2.7e-07 |\n",
            "| 0.60 |  0.139346906557662  |  0.1423795612297789 | 0.14222792849617305 | 0.14512411370804468 | -0.2511880656236848  | -0.2511883639059733  |  3.e-07 |\n",
            "| 0.70 |  0.1451188065623685 |  0.1478628662342501 |  0.147725663250656  | 0.15034624023730292 | -0.10341438132877084 | -0.10341469620859045 | 3.1e-07 |\n",
            "| 0.80 | 0.15034143813287712 | 0.15282436622623327 | 0.15270021982156545 | 0.15507141615072056 | 0.04932928973442835  | 0.04932896411722165  | 3.3e-07 |\n",
            "| 0.90 | 0.15506707102655717 | 0.15731371747522935 | 0.15720138515279572 | 0.15934693251127763 | 0.20656999120007583  | 0.20656965974059927  | 3.3e-07 |\n",
            "| 1.00 | 0.15934300087999242 | 0.16137585083599282 |  0.1612742083381928 | 0.16321558004617315 | 0.36787977441249864  | 0.36787944117144233  | 3.3e-07 |\n",
            "+------+---------------------+---------------------+---------------------+---------------------+----------------------+----------------------+---------+\n"
          ]
        }
      ]
    },
    {
      "cell_type": "code",
      "source": [
        "assert np.isclose(y[-1], 0.36787977441249853 )"
      ],
      "metadata": {
        "id": "PmPX0W6sw8-b"
      },
      "execution_count": 16,
      "outputs": []
    }
  ]
}